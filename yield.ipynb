{
 "cells": [
  {
   "cell_type": "code",
   "execution_count": 125,
   "metadata": {},
   "outputs": [],
   "source": [
    "import pandas as pd\n",
    "import numpy as np\n",
    "import matplotlib.pyplot as plt\n",
    "from sklearn.metrics import mean_squared_error"
   ]
  },
  {
   "cell_type": "code",
   "execution_count": 198,
   "metadata": {},
   "outputs": [],
   "source": [
    "org = pd.read_csv('trainset.csv')\n",
    "x_t = pd.read_csv('testset.csv')\n",
    "org.describe()\n",
    "x = org"
   ]
  },
  {
   "cell_type": "code",
   "execution_count": 85,
   "metadata": {
    "scrolled": false
   },
   "outputs": [],
   "source": [
    "drop_name_95 = []\n",
    "for i in range(0, x.shape[1]):\n",
    "    if x.iloc[:, i].count() < x.shape[0]*0.95:\n",
    "        drop_name_95.append(x.iloc[:, i].name)\n",
    "drop_name_95.append(x.iloc[:, 0].name)\n",
    "drop_name_95.append(x.iloc[:, 1].name)\n",
    "\n",
    "for i in range(0, x.shape[1]):\n",
    "    if x.iloc[:, i].dtype == 'O':\n",
    "        drop_name_95.append(x.iloc[:, i].name)"
   ]
  },
  {
   "cell_type": "code",
   "execution_count": 88,
   "metadata": {},
   "outputs": [],
   "source": [
    "drop_name_90 = []\n",
    "for i in range(0, x.shape[1]):\n",
    "    if x.iloc[:, i].count() < x.shape[0]*0.9:\n",
    "        drop_name_90.append(x.iloc[:, i].name)\n",
    "drop_name_90.append(x.iloc[:, 0].name)\n",
    "drop_name_90.append(x.iloc[:, 1].name)\n",
    "\n",
    "for i in range(0, x.shape[1]):\n",
    "    if x.iloc[:, i].dtype == 'O':\n",
    "        drop_name_90.append(x.iloc[:, i].name)"
   ]
  },
  {
   "cell_type": "code",
   "execution_count": 123,
   "metadata": {},
   "outputs": [
    {
     "data": {
      "text/html": [
       "<div>\n",
       "<style scoped>\n",
       "    .dataframe tbody tr th:only-of-type {\n",
       "        vertical-align: middle;\n",
       "    }\n",
       "\n",
       "    .dataframe tbody tr th {\n",
       "        vertical-align: top;\n",
       "    }\n",
       "\n",
       "    .dataframe thead th {\n",
       "        text-align: right;\n",
       "    }\n",
       "</style>\n",
       "<table border=\"1\" class=\"dataframe\">\n",
       "  <thead>\n",
       "    <tr style=\"text-align: right;\">\n",
       "      <th></th>\n",
       "      <th>Unnamed: 0</th>\n",
       "      <th>ID</th>\n",
       "      <th>x1</th>\n",
       "      <th>x3</th>\n",
       "      <th>x4</th>\n",
       "      <th>x5</th>\n",
       "      <th>x6</th>\n",
       "      <th>x7</th>\n",
       "      <th>x8</th>\n",
       "      <th>x9</th>\n",
       "      <th>...</th>\n",
       "      <th>x1479</th>\n",
       "      <th>x1480</th>\n",
       "      <th>x1481</th>\n",
       "      <th>x1482</th>\n",
       "      <th>x1483</th>\n",
       "      <th>x1484</th>\n",
       "      <th>x1485</th>\n",
       "      <th>x1486</th>\n",
       "      <th>x1548</th>\n",
       "      <th>Y</th>\n",
       "    </tr>\n",
       "  </thead>\n",
       "  <tbody>\n",
       "    <tr>\n",
       "      <th>count</th>\n",
       "      <td>2496.000000</td>\n",
       "      <td>2496.000000</td>\n",
       "      <td>176.000000</td>\n",
       "      <td>338.000000</td>\n",
       "      <td>288.000000</td>\n",
       "      <td>78.000000</td>\n",
       "      <td>287.000000</td>\n",
       "      <td>369.000000</td>\n",
       "      <td>220.000000</td>\n",
       "      <td>81.000000</td>\n",
       "      <td>...</td>\n",
       "      <td>401.000000</td>\n",
       "      <td>261.000000</td>\n",
       "      <td>261.000000</td>\n",
       "      <td>293.000000</td>\n",
       "      <td>97.000000</td>\n",
       "      <td>566.000000</td>\n",
       "      <td>209.000000</td>\n",
       "      <td>121.000000</td>\n",
       "      <td>2496.000000</td>\n",
       "      <td>2496.000000</td>\n",
       "    </tr>\n",
       "    <tr>\n",
       "      <th>mean</th>\n",
       "      <td>1248.500000</td>\n",
       "      <td>3498.262019</td>\n",
       "      <td>0.202822</td>\n",
       "      <td>23.462417</td>\n",
       "      <td>40.166706</td>\n",
       "      <td>17.585443</td>\n",
       "      <td>205.843205</td>\n",
       "      <td>-0.002545</td>\n",
       "      <td>16.874992</td>\n",
       "      <td>1.565936</td>\n",
       "      <td>...</td>\n",
       "      <td>5.089776</td>\n",
       "      <td>3.582375</td>\n",
       "      <td>2.042146</td>\n",
       "      <td>1.595563</td>\n",
       "      <td>0.020619</td>\n",
       "      <td>2.582597</td>\n",
       "      <td>0.177033</td>\n",
       "      <td>0.487603</td>\n",
       "      <td>81.805795</td>\n",
       "      <td>87.964741</td>\n",
       "    </tr>\n",
       "    <tr>\n",
       "      <th>std</th>\n",
       "      <td>720.677459</td>\n",
       "      <td>2022.701845</td>\n",
       "      <td>0.713453</td>\n",
       "      <td>0.153266</td>\n",
       "      <td>0.837538</td>\n",
       "      <td>2.092379</td>\n",
       "      <td>2.891404</td>\n",
       "      <td>0.144953</td>\n",
       "      <td>0.259730</td>\n",
       "      <td>0.320677</td>\n",
       "      <td>...</td>\n",
       "      <td>8.339854</td>\n",
       "      <td>7.318044</td>\n",
       "      <td>4.179638</td>\n",
       "      <td>3.116914</td>\n",
       "      <td>0.142842</td>\n",
       "      <td>6.049823</td>\n",
       "      <td>0.741781</td>\n",
       "      <td>2.098077</td>\n",
       "      <td>10.900766</td>\n",
       "      <td>3.117598</td>\n",
       "    </tr>\n",
       "    <tr>\n",
       "      <th>min</th>\n",
       "      <td>1.000000</td>\n",
       "      <td>4.000000</td>\n",
       "      <td>-1.721111</td>\n",
       "      <td>23.072500</td>\n",
       "      <td>37.468750</td>\n",
       "      <td>13.435000</td>\n",
       "      <td>199.316154</td>\n",
       "      <td>-0.445556</td>\n",
       "      <td>16.165000</td>\n",
       "      <td>0.490000</td>\n",
       "      <td>...</td>\n",
       "      <td>0.000000</td>\n",
       "      <td>0.000000</td>\n",
       "      <td>0.000000</td>\n",
       "      <td>0.000000</td>\n",
       "      <td>0.000000</td>\n",
       "      <td>0.000000</td>\n",
       "      <td>0.000000</td>\n",
       "      <td>0.000000</td>\n",
       "      <td>39.427581</td>\n",
       "      <td>50.324680</td>\n",
       "    </tr>\n",
       "    <tr>\n",
       "      <th>25%</th>\n",
       "      <td>624.750000</td>\n",
       "      <td>1737.500000</td>\n",
       "      <td>-0.245741</td>\n",
       "      <td>23.368125</td>\n",
       "      <td>39.699063</td>\n",
       "      <td>18.442500</td>\n",
       "      <td>204.185577</td>\n",
       "      <td>-0.098518</td>\n",
       "      <td>16.692187</td>\n",
       "      <td>1.440000</td>\n",
       "      <td>...</td>\n",
       "      <td>0.000000</td>\n",
       "      <td>0.000000</td>\n",
       "      <td>0.000000</td>\n",
       "      <td>0.000000</td>\n",
       "      <td>0.000000</td>\n",
       "      <td>0.000000</td>\n",
       "      <td>0.000000</td>\n",
       "      <td>0.000000</td>\n",
       "      <td>75.376710</td>\n",
       "      <td>87.241560</td>\n",
       "    </tr>\n",
       "    <tr>\n",
       "      <th>50%</th>\n",
       "      <td>1248.500000</td>\n",
       "      <td>3510.000000</td>\n",
       "      <td>0.174629</td>\n",
       "      <td>23.465000</td>\n",
       "      <td>40.104375</td>\n",
       "      <td>18.614167</td>\n",
       "      <td>205.832051</td>\n",
       "      <td>-0.017407</td>\n",
       "      <td>16.858125</td>\n",
       "      <td>1.553333</td>\n",
       "      <td>...</td>\n",
       "      <td>0.000000</td>\n",
       "      <td>1.000000</td>\n",
       "      <td>1.000000</td>\n",
       "      <td>0.000000</td>\n",
       "      <td>0.000000</td>\n",
       "      <td>0.000000</td>\n",
       "      <td>0.000000</td>\n",
       "      <td>0.000000</td>\n",
       "      <td>79.642922</td>\n",
       "      <td>88.481820</td>\n",
       "    </tr>\n",
       "    <tr>\n",
       "      <th>75%</th>\n",
       "      <td>1872.250000</td>\n",
       "      <td>5284.750000</td>\n",
       "      <td>0.622500</td>\n",
       "      <td>23.555416</td>\n",
       "      <td>40.529531</td>\n",
       "      <td>18.750521</td>\n",
       "      <td>207.287821</td>\n",
       "      <td>0.098889</td>\n",
       "      <td>17.051562</td>\n",
       "      <td>1.726667</td>\n",
       "      <td>...</td>\n",
       "      <td>9.000000</td>\n",
       "      <td>4.000000</td>\n",
       "      <td>2.000000</td>\n",
       "      <td>2.000000</td>\n",
       "      <td>0.000000</td>\n",
       "      <td>3.000000</td>\n",
       "      <td>0.000000</td>\n",
       "      <td>0.000000</td>\n",
       "      <td>85.431745</td>\n",
       "      <td>89.559495</td>\n",
       "    </tr>\n",
       "    <tr>\n",
       "      <th>max</th>\n",
       "      <td>2496.000000</td>\n",
       "      <td>6930.000000</td>\n",
       "      <td>2.756667</td>\n",
       "      <td>23.935000</td>\n",
       "      <td>43.834063</td>\n",
       "      <td>19.047500</td>\n",
       "      <td>235.837436</td>\n",
       "      <td>0.445556</td>\n",
       "      <td>17.544375</td>\n",
       "      <td>2.286667</td>\n",
       "      <td>...</td>\n",
       "      <td>44.000000</td>\n",
       "      <td>63.000000</td>\n",
       "      <td>37.000000</td>\n",
       "      <td>24.000000</td>\n",
       "      <td>1.000000</td>\n",
       "      <td>72.000000</td>\n",
       "      <td>6.000000</td>\n",
       "      <td>16.000000</td>\n",
       "      <td>169.237049</td>\n",
       "      <td>92.428570</td>\n",
       "    </tr>\n",
       "  </tbody>\n",
       "</table>\n",
       "<p>8 rows × 863 columns</p>\n",
       "</div>"
      ],
      "text/plain": [
       "        Unnamed: 0           ID          x1          x3          x4  \\\n",
       "count  2496.000000  2496.000000  176.000000  338.000000  288.000000   \n",
       "mean   1248.500000  3498.262019    0.202822   23.462417   40.166706   \n",
       "std     720.677459  2022.701845    0.713453    0.153266    0.837538   \n",
       "min       1.000000     4.000000   -1.721111   23.072500   37.468750   \n",
       "25%     624.750000  1737.500000   -0.245741   23.368125   39.699063   \n",
       "50%    1248.500000  3510.000000    0.174629   23.465000   40.104375   \n",
       "75%    1872.250000  5284.750000    0.622500   23.555416   40.529531   \n",
       "max    2496.000000  6930.000000    2.756667   23.935000   43.834063   \n",
       "\n",
       "              x5          x6          x7          x8         x9     ...       \\\n",
       "count  78.000000  287.000000  369.000000  220.000000  81.000000     ...        \n",
       "mean   17.585443  205.843205   -0.002545   16.874992   1.565936     ...        \n",
       "std     2.092379    2.891404    0.144953    0.259730   0.320677     ...        \n",
       "min    13.435000  199.316154   -0.445556   16.165000   0.490000     ...        \n",
       "25%    18.442500  204.185577   -0.098518   16.692187   1.440000     ...        \n",
       "50%    18.614167  205.832051   -0.017407   16.858125   1.553333     ...        \n",
       "75%    18.750521  207.287821    0.098889   17.051562   1.726667     ...        \n",
       "max    19.047500  235.837436    0.445556   17.544375   2.286667     ...        \n",
       "\n",
       "            x1479       x1480       x1481       x1482      x1483       x1484  \\\n",
       "count  401.000000  261.000000  261.000000  293.000000  97.000000  566.000000   \n",
       "mean     5.089776    3.582375    2.042146    1.595563   0.020619    2.582597   \n",
       "std      8.339854    7.318044    4.179638    3.116914   0.142842    6.049823   \n",
       "min      0.000000    0.000000    0.000000    0.000000   0.000000    0.000000   \n",
       "25%      0.000000    0.000000    0.000000    0.000000   0.000000    0.000000   \n",
       "50%      0.000000    1.000000    1.000000    0.000000   0.000000    0.000000   \n",
       "75%      9.000000    4.000000    2.000000    2.000000   0.000000    3.000000   \n",
       "max     44.000000   63.000000   37.000000   24.000000   1.000000   72.000000   \n",
       "\n",
       "            x1485       x1486        x1548            Y  \n",
       "count  209.000000  121.000000  2496.000000  2496.000000  \n",
       "mean     0.177033    0.487603    81.805795    87.964741  \n",
       "std      0.741781    2.098077    10.900766     3.117598  \n",
       "min      0.000000    0.000000    39.427581    50.324680  \n",
       "25%      0.000000    0.000000    75.376710    87.241560  \n",
       "50%      0.000000    0.000000    79.642922    88.481820  \n",
       "75%      0.000000    0.000000    85.431745    89.559495  \n",
       "max      6.000000   16.000000   169.237049    92.428570  \n",
       "\n",
       "[8 rows x 863 columns]"
      ]
     },
     "execution_count": 123,
     "metadata": {},
     "output_type": "execute_result"
    }
   ],
   "source": [
    "x.describe()"
   ]
  },
  {
   "cell_type": "code",
   "execution_count": 199,
   "metadata": {},
   "outputs": [],
   "source": [
    "x_1 = x.drop(drop_name_95, axis=1)\n",
    "x_3 = x.drop(drop_name_90, axis=1)\n",
    "x_t1 = x_t.drop(drop_name_95, axis=1)"
   ]
  },
  {
   "cell_type": "code",
   "execution_count": 205,
   "metadata": {},
   "outputs": [
    {
     "data": {
      "text/plain": [
       "(2496, 209)"
      ]
     },
     "execution_count": 205,
     "metadata": {},
     "output_type": "execute_result"
    }
   ],
   "source": [
    "x_1.shape"
   ]
  },
  {
   "cell_type": "code",
   "execution_count": 44,
   "metadata": {},
   "outputs": [],
   "source": [
    "from sklearn.preprocessing import Imputer\n",
    "\n",
    "imputer = Imputer(strategy=\"median\")"
   ]
  },
  {
   "cell_type": "code",
   "execution_count": 45,
   "metadata": {},
   "outputs": [],
   "source": [
    "imputer.fit(x_1.drop(\"Y\", axis=1))\n",
    "x_2 = imputer.transform(x_1.drop(\"Y\", axis=1))\n",
    "#x_2 = pd.DataFrame(x_2, columns=x_1.columns)\n",
    "y_2 = x_1[\"Y\"].copy()"
   ]
  },
  {
   "cell_type": "code",
   "execution_count": 206,
   "metadata": {},
   "outputs": [],
   "source": [
    "imputer.fit(x_t1)\n",
    "x_t2 = imputer.transform(x_t1)"
   ]
  },
  {
   "cell_type": "code",
   "execution_count": 92,
   "metadata": {},
   "outputs": [],
   "source": [
    "imputer.fit(x_3.drop(\"Y\", axis=1))\n",
    "x_4 = imputer.transform(x_3.drop(\"Y\", axis=1))\n",
    "#x_2 = pd.DataFrame(x_2, columns=x_1.columns)\n",
    "y_4 = x_3[\"Y\"].copy()"
   ]
  },
  {
   "cell_type": "code",
   "execution_count": 96,
   "metadata": {},
   "outputs": [
    {
     "data": {
      "text/plain": [
       "-70.75148000691296"
      ]
     },
     "execution_count": 96,
     "metadata": {},
     "output_type": "execute_result"
    }
   ],
   "source": [
    "from sklearn.linear_model import LinearRegression\n",
    "from sklearn.model_selection import cross_val_score\n",
    "\n",
    "lin_reg = LinearRegression()\n",
    "scores = cross_val_score(lin_reg, x_2, y_2, scoring='neg_mean_squared_error', cv= 5)\n",
    "scores.sum()"
   ]
  },
  {
   "cell_type": "code",
   "execution_count": 209,
   "metadata": {},
   "outputs": [],
   "source": [
    "from sklearn.preprocessing import StandardScaler\n",
    "scaler = StandardScaler()\n",
    "x_2_scaled = scaler.fit_transform(x_2)\n",
    "x_4_scaled = scaler.fit_transform(x_4)\n",
    "x_t2_scaled = scaler.fit_transform(x_t2)"
   ]
  },
  {
   "cell_type": "code",
   "execution_count": 97,
   "metadata": {},
   "outputs": [
    {
     "data": {
      "text/plain": [
       "-70.75148000691325"
      ]
     },
     "execution_count": 97,
     "metadata": {},
     "output_type": "execute_result"
    }
   ],
   "source": [
    "scores = cross_val_score(lin_reg, x_2_scaled, y_2, scoring='neg_mean_squared_error', cv= 5)\n",
    "scores.sum()"
   ]
  },
  {
   "cell_type": "code",
   "execution_count": 70,
   "metadata": {},
   "outputs": [
    {
     "data": {
      "text/plain": [
       "-123.65709336279622"
      ]
     },
     "execution_count": 70,
     "metadata": {},
     "output_type": "execute_result"
    }
   ],
   "source": [
    "from sklearn.tree import DecisionTreeRegressor\n",
    "\n",
    "tree_reg = DecisionTreeRegressor()\n",
    "scores = cross_val_score(tree_reg, x_2_scaled, y_2, scoring='neg_mean_squared_error', cv= 5)\n",
    "scores.sum()"
   ]
  },
  {
   "cell_type": "code",
   "execution_count": 163,
   "metadata": {},
   "outputs": [
    {
     "data": {
      "text/plain": [
       "-58.13417846137882"
      ]
     },
     "execution_count": 163,
     "metadata": {},
     "output_type": "execute_result"
    }
   ],
   "source": [
    "from sklearn.ensemble import RandomForestRegressor\n",
    "\n",
    "forest_reg = RandomForestRegressor()\n",
    "scores = cross_val_score(forest_reg, x_2_scaled_reduced, y_2, scoring='neg_mean_squared_error', cv= 5)\n",
    "scores.sum()"
   ]
  },
  {
   "cell_type": "code",
   "execution_count": 94,
   "metadata": {},
   "outputs": [
    {
     "data": {
      "text/plain": [
       "-55.07109564890919"
      ]
     },
     "execution_count": 94,
     "metadata": {},
     "output_type": "execute_result"
    }
   ],
   "source": [
    "scores = cross_val_score(forest_reg, x_4_scaled, y_2, scoring='neg_mean_squared_error', cv= 5)\n",
    "scores.sum()"
   ]
  },
  {
   "cell_type": "code",
   "execution_count": 71,
   "metadata": {
    "scrolled": true
   },
   "outputs": [
    {
     "data": {
      "text/plain": [
       "-70.19296872305729"
      ]
     },
     "execution_count": 71,
     "metadata": {},
     "output_type": "execute_result"
    }
   ],
   "source": [
    "from sklearn.linear_model import Ridge\n",
    "ridge_reg = Ridge(alpha=1, solver=\"cholesky\")\n",
    "scores = cross_val_score(ridge_reg, x_2_scaled, y_2, scoring='neg_mean_squared_error', cv= 5)\n",
    "scores.sum()"
   ]
  },
  {
   "cell_type": "code",
   "execution_count": 72,
   "metadata": {},
   "outputs": [
    {
     "data": {
      "text/plain": [
       "-48.38968777671319"
      ]
     },
     "execution_count": 72,
     "metadata": {},
     "output_type": "execute_result"
    }
   ],
   "source": [
    "from sklearn.linear_model import ElasticNet\n",
    "elastic_net = ElasticNet(alpha=0.1, l1_ratio=0.5)\n",
    "scores = cross_val_score(elastic_net, x_2_scaled, y_2, scoring='neg_mean_squared_error', cv= 5)\n",
    "scores.sum()"
   ]
  },
  {
   "cell_type": "code",
   "execution_count": 105,
   "metadata": {},
   "outputs": [
    {
     "data": {
      "text/plain": [
       "-46.84082530972146"
      ]
     },
     "execution_count": 105,
     "metadata": {},
     "output_type": "execute_result"
    }
   ],
   "source": [
    "from sklearn.svm import LinearSVR\n",
    "svm_reg = LinearSVR(epsilon=1.5)\n",
    "scores = cross_val_score(svm_reg, x_2_scaled_reduced, y_2, scoring='neg_mean_squared_error', cv= 5)\n",
    "scores.sum()"
   ]
  },
  {
   "cell_type": "code",
   "execution_count": 106,
   "metadata": {},
   "outputs": [
    {
     "data": {
      "text/plain": [
       "-47.3953699036857"
      ]
     },
     "execution_count": 106,
     "metadata": {},
     "output_type": "execute_result"
    }
   ],
   "source": [
    "from sklearn.svm import LinearSVR\n",
    "svm_reg = LinearSVR(epsilon=0.5)\n",
    "scores = cross_val_score(svm_reg, x_2_scaled_reduced, y_2, scoring='neg_mean_squared_error', cv= 5)\n",
    "scores.sum()"
   ]
  },
  {
   "cell_type": "code",
   "execution_count": 153,
   "metadata": {},
   "outputs": [
    {
     "data": {
      "text/plain": [
       "-47.569594967090524"
      ]
     },
     "execution_count": 153,
     "metadata": {},
     "output_type": "execute_result"
    }
   ],
   "source": [
    "from sklearn.svm import LinearSVR\n",
    "svm_reg = LinearSVR(epsilon=0.1)\n",
    "scores = cross_val_score(svm_reg, x_2_scaled_reduced, y_2, scoring='neg_mean_squared_error', cv= 5)\n",
    "scores.sum()"
   ]
  },
  {
   "cell_type": "code",
   "execution_count": 122,
   "metadata": {},
   "outputs": [
    {
     "data": {
      "text/plain": [
       "-48.492463966200916"
      ]
     },
     "execution_count": 122,
     "metadata": {},
     "output_type": "execute_result"
    }
   ],
   "source": [
    "from sklearn.svm import SVR\n",
    "svm_poly_reg = SVR(kernel=\"rbf\", degree=2, C=0.1, epsilon=1.5)\n",
    "scores = cross_val_score(svm_poly_reg, x_2_scaled, y_2, scoring='neg_mean_squared_error', cv= 5)\n",
    "scores.sum()"
   ]
  },
  {
   "cell_type": "code",
   "execution_count": 164,
   "metadata": {},
   "outputs": [
    {
     "data": {
      "text/plain": [
       "-50.66209338848965"
      ]
     },
     "execution_count": 164,
     "metadata": {},
     "output_type": "execute_result"
    }
   ],
   "source": [
    "from sklearn.ensemble import GradientBoostingRegressor\n",
    "gbrt = GradientBoostingRegressor(max_depth=2, n_estimators=3, learning_rate=1.0)\n",
    "scores = cross_val_score(gbrt, x_2_scaled_reduced, y_2, scoring='neg_mean_squared_error', cv= 5)\n",
    "scores.sum()"
   ]
  },
  {
   "cell_type": "code",
   "execution_count": 58,
   "metadata": {},
   "outputs": [],
   "source": [
    "from sklearn.decomposition import PCA\n",
    "\n",
    "pca = PCA(n_components=0.5)\n",
    "x_2_scaled_reduced = pca.fit_transform(x_2_scaled)"
   ]
  },
  {
   "cell_type": "code",
   "execution_count": 60,
   "metadata": {},
   "outputs": [
    {
     "data": {
      "text/plain": [
       "-51.21043881018193"
      ]
     },
     "execution_count": 60,
     "metadata": {},
     "output_type": "execute_result"
    }
   ],
   "source": [
    "lin_reg = LinearRegression()\n",
    "scores = cross_val_score(lin_reg, x_2_scaled_reduced, y_2, scoring='neg_mean_squared_error', cv= 5)\n",
    "scores.sum()"
   ]
  },
  {
   "cell_type": "code",
   "execution_count": 61,
   "metadata": {},
   "outputs": [
    {
     "data": {
      "text/plain": [
       "-62.165025193800616"
      ]
     },
     "execution_count": 61,
     "metadata": {},
     "output_type": "execute_result"
    }
   ],
   "source": [
    "from sklearn.ensemble import RandomForestRegressor\n",
    "\n",
    "pca = PCA(n_components=0.7)\n",
    "x_2_scaled_reduced = pca.fit_transform(x_2_scaled)\n",
    "\n",
    "forest_reg = RandomForestRegressor()\n",
    "scores = cross_val_score(forest_reg, x_2_scaled_reduced, y_2, scoring='neg_mean_squared_error', cv= 5)\n",
    "scores.sum()"
   ]
  },
  {
   "cell_type": "code",
   "execution_count": 62,
   "metadata": {},
   "outputs": [
    {
     "data": {
      "text/plain": [
       "-48.52795456328282"
      ]
     },
     "execution_count": 62,
     "metadata": {},
     "output_type": "execute_result"
    }
   ],
   "source": [
    "pca = PCA(n_components=0.3)\n",
    "x_2_scaled_reduced = pca.fit_transform(x_2_scaled)\n",
    "\n",
    "elastic_net = ElasticNet(alpha=0.1, l1_ratio=0.5)\n",
    "scores = cross_val_score(elastic_net, x_2_scaled_reduced, y_2, scoring='neg_mean_squared_error', cv= 5)\n",
    "scores.sum()"
   ]
  },
  {
   "cell_type": "code",
   "execution_count": 63,
   "metadata": {},
   "outputs": [
    {
     "data": {
      "text/plain": [
       "(2496, 208)"
      ]
     },
     "execution_count": 63,
     "metadata": {},
     "output_type": "execute_result"
    }
   ],
   "source": [
    "x_2_scaled.shape"
   ]
  },
  {
   "cell_type": "code",
   "execution_count": 64,
   "metadata": {},
   "outputs": [
    {
     "data": {
      "text/plain": [
       "-51.112425380063634"
      ]
     },
     "execution_count": 64,
     "metadata": {},
     "output_type": "execute_result"
    }
   ],
   "source": [
    "svm_poly_reg = SVR(kernel=\"poly\", degree=0.5, C=100, epsilon=0.2)\n",
    "scores = cross_val_score(svm_poly_reg, x_2_scaled, y_2, scoring='neg_mean_squared_error', cv= 5)\n",
    "scores.sum()"
   ]
  },
  {
   "cell_type": "code",
   "execution_count": 65,
   "metadata": {},
   "outputs": [],
   "source": [
    "from sklearn.decomposition import KernelPCA\n",
    "\n",
    "rbf_pca = KernelPCA(n_components=5, kernel=\"rbf\", gamma=0.04)\n",
    "x_2_scaled_kernel_reduced = rbf_pca.fit_transform(x_2_scaled)"
   ]
  },
  {
   "cell_type": "code",
   "execution_count": 66,
   "metadata": {},
   "outputs": [
    {
     "data": {
      "text/plain": [
       "-48.50452497303797"
      ]
     },
     "execution_count": 66,
     "metadata": {},
     "output_type": "execute_result"
    }
   ],
   "source": [
    "lin_reg = LinearRegression()\n",
    "scores = cross_val_score(lin_reg, x_2_scaled_kernel_reduced, y_2, scoring='neg_mean_squared_error', cv= 5)\n",
    "scores.sum()"
   ]
  },
  {
   "cell_type": "code",
   "execution_count": 67,
   "metadata": {},
   "outputs": [
    {
     "data": {
      "text/plain": [
       "-49.65903444314613"
      ]
     },
     "execution_count": 67,
     "metadata": {},
     "output_type": "execute_result"
    }
   ],
   "source": [
    "elastic_net = ElasticNet(alpha=0.1, l1_ratio=0.5)\n",
    "scores = cross_val_score(elastic_net, x_2_scaled_kernel_reduced, y_2, scoring='neg_mean_squared_error', cv= 5)\n",
    "scores.sum()"
   ]
  },
  {
   "cell_type": "code",
   "execution_count": 78,
   "metadata": {},
   "outputs": [
    {
     "data": {
      "text/plain": [
       "{'PCA__n_components': 0.14}"
      ]
     },
     "execution_count": 78,
     "metadata": {},
     "output_type": "execute_result"
    }
   ],
   "source": [
    "from sklearn.model_selection import GridSearchCV\n",
    "from sklearn.pipeline import Pipeline\n",
    "\n",
    "lin_reg_grid = Pipeline([\n",
    "    (\"PCA\", PCA()),\n",
    "    (\"lin_reg\", LinearRegression())\n",
    "])\n",
    "\n",
    "param_grid = [{\n",
    "    \"PCA__n_components\": np.linspace(0.01, 0.99, 99)\n",
    "}]\n",
    "\n",
    "grid_search = GridSearchCV(lin_reg_grid, param_grid, cv=5)\n",
    "grid_search.fit(x_2_scaled, y_2)\n",
    "grid_search.best_params_"
   ]
  },
  {
   "cell_type": "code",
   "execution_count": 80,
   "metadata": {},
   "outputs": [
    {
     "data": {
      "text/plain": [
       "{'PCA__n_components': 0.14,\n",
       " 'elasticnet__alpha': 0.1,\n",
       " 'elasticnet__l1_ratio': 0.1}"
      ]
     },
     "execution_count": 80,
     "metadata": {},
     "output_type": "execute_result"
    }
   ],
   "source": [
    "elasticnet_grid = Pipeline([\n",
    "    (\"PCA\", PCA()),\n",
    "    (\"elasticnet\", ElasticNet(alpha=0.1, l1_ratio=0.5))\n",
    "])\n",
    "\n",
    "param_grid = [{\n",
    "    \"PCA__n_components\": np.linspace(0.01, 0.4, 40),\n",
    "    \"elasticnet__alpha\": np.linspace(0.1, 1, 10),\n",
    "    \"elasticnet__l1_ratio\": np.linspace(0.1, 1, 10)\n",
    "}]\n",
    "\n",
    "grid_search = GridSearchCV(elasticnet_grid, param_grid, cv=5)\n",
    "grid_search.fit(x_2_scaled, y_2)\n",
    "grid_search.best_params_"
   ]
  },
  {
   "cell_type": "code",
   "execution_count": 193,
   "metadata": {
    "scrolled": true
   },
   "outputs": [
    {
     "data": {
      "text/plain": [
       "-47.78683364256138"
      ]
     },
     "execution_count": 193,
     "metadata": {},
     "output_type": "execute_result"
    }
   ],
   "source": [
    "pca = PCA(n_components=0.14)\n",
    "x_2_scaled_reduced = pca.fit_transform(x_2_scaled)\n",
    "scores = cross_val_score(lin_reg, x_2_scaled_reduced, y_2, scoring='neg_mean_squared_error', cv= 5)\n",
    "scores.sum()"
   ]
  },
  {
   "cell_type": "code",
   "execution_count": 194,
   "metadata": {},
   "outputs": [
    {
     "data": {
      "text/plain": [
       "-47.75481302119877"
      ]
     },
     "execution_count": 194,
     "metadata": {},
     "output_type": "execute_result"
    }
   ],
   "source": [
    "elastic_net = ElasticNet(alpha=0.1, l1_ratio=0.1)\n",
    "scores = cross_val_score(elastic_net, x_2_scaled_reduced, y_2, scoring='neg_mean_squared_error', cv= 5)\n",
    "scores.sum()"
   ]
  },
  {
   "cell_type": "code",
   "execution_count": 139,
   "metadata": {},
   "outputs": [
    {
     "data": {
      "text/plain": [
       "87.71842"
      ]
     },
     "execution_count": 139,
     "metadata": {},
     "output_type": "execute_result"
    }
   ],
   "source": [
    "y_2[0]"
   ]
  },
  {
   "cell_type": "code",
   "execution_count": 144,
   "metadata": {},
   "outputs": [],
   "source": [
    "y_test = []\n",
    "for i in range(0, y_2.shape[0]):\n",
    "    y_test.append(y_2.mean())"
   ]
  },
  {
   "cell_type": "code",
   "execution_count": 152,
   "metadata": {},
   "outputs": [
    {
     "data": {
      "text/plain": [
       "48.57760868861141"
      ]
     },
     "execution_count": 152,
     "metadata": {},
     "output_type": "execute_result"
    }
   ],
   "source": [
    "mean_squared_error(y_2, y_test) * 5"
   ]
  },
  {
   "cell_type": "code",
   "execution_count": 154,
   "metadata": {},
   "outputs": [
    {
     "data": {
      "text/plain": [
       "{'PCA__n_components': 0.29000000000000004,\n",
       " 'lin_svm_reg__epsilon': 1.5999999999999999}"
      ]
     },
     "execution_count": 154,
     "metadata": {},
     "output_type": "execute_result"
    }
   ],
   "source": [
    "lin_svm_reg_grid = Pipeline([\n",
    "    (\"PCA\", PCA()),\n",
    "    (\"lin_svm_reg\", LinearSVR())\n",
    "])\n",
    "\n",
    "param_grid = [{\n",
    "    \"PCA__n_components\": np.linspace(0.01, 0.4, 40),\n",
    "    \"lin_svm_reg__epsilon\": np.linspace(0.1, 2, 20),\n",
    "}]\n",
    "\n",
    "grid_search = GridSearchCV(lin_svm_reg_grid, param_grid, cv=5)\n",
    "grid_search.fit(x_2_scaled, y_2)\n",
    "grid_search.best_params_"
   ]
  },
  {
   "cell_type": "code",
   "execution_count": 195,
   "metadata": {},
   "outputs": [
    {
     "data": {
      "text/plain": [
       "-47.649020004513346"
      ]
     },
     "execution_count": 195,
     "metadata": {},
     "output_type": "execute_result"
    }
   ],
   "source": [
    "pca = PCA(n_components=0.29)\n",
    "x_5_scaled_reduced = pca.fit_transform(x_2_scaled)\n",
    "\n",
    "svm_reg = LinearSVR(epsilon=1.6)\n",
    "scores = cross_val_score(svm_reg, x_5_scaled_reduced, y_2, scoring='neg_mean_squared_error', cv= 5)\n",
    "scores.sum()"
   ]
  },
  {
   "cell_type": "code",
   "execution_count": 168,
   "metadata": {},
   "outputs": [
    {
     "ename": "AttributeError",
     "evalue": "'numpy.ndarray' object has no attribute 'int'",
     "output_type": "error",
     "traceback": [
      "\u001b[1;31m---------------------------------------------------------------------------\u001b[0m",
      "\u001b[1;31mAttributeError\u001b[0m                            Traceback (most recent call last)",
      "\u001b[1;32m<ipython-input-168-6d3c55ea9f9f>\u001b[0m in \u001b[0;36m<module>\u001b[1;34m()\u001b[0m\n\u001b[0;32m      1\u001b[0m \u001b[0mx_2_test\u001b[0m \u001b[1;33m=\u001b[0m \u001b[0mx_2_scaled\u001b[0m\u001b[1;33m\u001b[0m\u001b[0m\n\u001b[1;32m----> 2\u001b[1;33m \u001b[0mnp\u001b[0m\u001b[1;33m.\u001b[0m\u001b[0mlinspace\u001b[0m\u001b[1;33m(\u001b[0m\u001b[1;36m2\u001b[0m\u001b[1;33m,\u001b[0m\u001b[1;36m10\u001b[0m\u001b[1;33m,\u001b[0m\u001b[1;36m9\u001b[0m\u001b[1;33m)\u001b[0m\u001b[1;33m.\u001b[0m\u001b[0mint\u001b[0m\u001b[1;33m(\u001b[0m\u001b[1;33m)\u001b[0m\u001b[1;33m\u001b[0m\u001b[0m\n\u001b[0m",
      "\u001b[1;31mAttributeError\u001b[0m: 'numpy.ndarray' object has no attribute 'int'"
     ]
    }
   ],
   "source": [
    "x_2_test = x_2_scaled"
   ]
  },
  {
   "cell_type": "code",
   "execution_count": 169,
   "metadata": {},
   "outputs": [
    {
     "data": {
      "text/plain": [
       "{'PCA__n_components': 0.28, 'gbrt__max_depth': 3, 'gbrt__n_estimators': 10}"
      ]
     },
     "execution_count": 169,
     "metadata": {},
     "output_type": "execute_result"
    }
   ],
   "source": [
    "#gbrt = GradientBoostingRegressor(max_depth=2, n_estimators=3, learning_rate=1.0)\n",
    "\n",
    "gbrt_grid = Pipeline([\n",
    "    (\"PCA\", PCA()),\n",
    "    (\"gbrt\", GradientBoostingRegressor())\n",
    "])\n",
    "\n",
    "param_grid = [{\n",
    "    \"PCA__n_components\": np.linspace(0.01, 0.4, 40),\n",
    "    \"gbrt__max_depth\": [2, 3, 4, 5, 6, 7, 8, 9, 10],\n",
    "    \"gbrt__n_estimators\": [2, 3, 4, 5, 6, 7, 8, 9, 10]\n",
    "}]\n",
    "\n",
    "grid_search = GridSearchCV(gbrt_grid, param_grid, cv=5)\n",
    "grid_search.fit(x_2_scaled, y_2)\n",
    "grid_search.best_params_"
   ]
  },
  {
   "cell_type": "code",
   "execution_count": 228,
   "metadata": {},
   "outputs": [
    {
     "data": {
      "text/plain": [
       "-48.25557600294072"
      ]
     },
     "execution_count": 228,
     "metadata": {},
     "output_type": "execute_result"
    }
   ],
   "source": [
    "pca = PCA(n_components=0.28)\n",
    "x_2_scaled_reduced = pca.fit_transform(x_2_scaled)\n",
    "\n",
    "gbrt = GradientBoostingRegressor(max_depth=3, n_estimators=13)\n",
    "scores = cross_val_score(gbrt, x_2_scaled_reduced, y_2, scoring='neg_mean_squared_error', cv= 5)\n",
    "scores.sum()"
   ]
  },
  {
   "cell_type": "code",
   "execution_count": 249,
   "metadata": {},
   "outputs": [
    {
     "data": {
      "text/plain": [
       "array([87.84872717, 87.7292413 , 88.54761013, 87.92531712, 88.35736873,\n",
       "       87.91851484, 88.40866488, 88.29518814, 88.71271958, 88.22579007,\n",
       "       87.79689363, 87.64319772, 88.77858994, 87.89670163, 87.79345423,\n",
       "       88.18653733, 88.18623061, 88.31602414, 87.65804767, 88.74453779,\n",
       "       88.02111873, 88.30952276, 88.11317345, 88.36967687, 87.94147776,\n",
       "       87.85921883, 88.34093597, 88.76617408, 89.46097573, 88.00682575,\n",
       "       88.04285428, 87.07954387, 88.86821001, 88.52401058, 89.04039646,\n",
       "       87.85559858, 87.7006354 , 88.7683349 , 87.71559666, 87.38807099,\n",
       "       87.43261806, 87.93609226, 88.18672433, 88.19414273, 88.19717528,\n",
       "       88.09258595, 87.79141337, 88.59716953, 87.95856894, 88.04505052,\n",
       "       87.67477678, 88.75813122, 88.09336893, 88.19871801, 88.11387631,\n",
       "       88.13410913, 88.23130016, 87.89207165, 87.43624745, 87.73785764,\n",
       "       88.44343801, 87.68624706, 87.81434967, 87.98531061, 87.63085017,\n",
       "       88.28037152, 87.83158895, 87.70318355, 88.23780719, 88.26029126,\n",
       "       87.7078846 , 87.57000106, 88.13005962, 88.48882177, 87.72582033,\n",
       "       87.89802237, 88.10878535, 88.05676556, 88.19092714, 87.8432435 ,\n",
       "       87.8274764 , 87.66860135, 87.94155298, 87.92977793, 88.06429427,\n",
       "       87.73745969, 88.19833988, 88.2299099 , 87.94162151, 88.05338155,\n",
       "       88.45258233, 88.99410099, 88.51132959, 88.02511707, 87.68983646,\n",
       "       87.60089683, 88.21524932, 88.11211524, 87.6913071 , 88.09399293,\n",
       "       87.57999159, 88.11874863, 87.67315188, 87.41873021, 88.15697336,\n",
       "       87.61896192, 88.07463556, 87.95652195, 88.12172885, 88.10674551,\n",
       "       87.61830369, 88.03173603, 88.00025049, 88.85816522, 87.57246793,\n",
       "       88.22864964, 88.47626635, 88.11417526, 88.02086502, 87.40166696,\n",
       "       87.95654062, 88.4748063 , 88.47773007, 87.91824749, 87.56754788,\n",
       "       87.94216701, 87.81578987, 88.11627571, 87.89952251, 87.96916471,\n",
       "       88.12044939, 88.36456161, 88.0287953 , 87.56741824, 88.56821518,\n",
       "       87.97978862, 87.45838903, 87.98953269, 86.3609193 , 87.7052701 ,\n",
       "       88.06950708, 87.63120934, 88.40031707, 88.73348918, 87.96129199,\n",
       "       88.04966176, 87.97050593, 87.43631305, 88.02817262, 87.68918833,\n",
       "       87.79420022, 87.69197096, 88.07497042, 88.0285116 , 88.00150271,\n",
       "       87.99272135, 88.01055651, 87.78272905, 87.92658696, 88.22589184,\n",
       "       87.70441647, 87.75620956, 88.12410608, 87.84368136, 88.01826079,\n",
       "       88.25209853, 87.30139149, 88.11376706, 87.50355287, 87.3715423 ,\n",
       "       88.20192007, 87.34525255, 88.10587933, 88.29731807, 87.76075194,\n",
       "       87.68448445, 88.11795472, 87.81683164, 88.1425994 , 88.12071281,\n",
       "       87.77768077, 87.64445304, 87.81228713, 88.11821628, 87.96533224,\n",
       "       87.87323257, 88.02518454, 87.69183786, 87.86365227, 87.14590923,\n",
       "       88.03235937, 87.9356901 , 88.07288998, 87.9561379 , 87.8113876 ,\n",
       "       87.98364165, 88.13372877, 87.696575  , 88.03255076, 87.78069713,\n",
       "       87.56103522, 87.7791482 , 87.51204047, 88.35608732, 87.65584988,\n",
       "       88.02219264, 87.75000774, 88.19821939, 88.11888561, 87.79773566,\n",
       "       88.32325101, 87.78780629, 87.61075157, 88.2527484 , 87.55904874,\n",
       "       87.67730327, 88.0836389 , 87.4852677 , 87.94014099, 87.93672317,\n",
       "       87.9712164 , 87.92172476, 87.72841443, 87.60921854, 88.53727798,\n",
       "       87.81823428, 87.99147844, 88.26807533, 88.22667108, 88.15959615,\n",
       "       87.86625235, 88.29251486, 87.85469207, 87.9068621 , 88.44799384,\n",
       "       86.95418879, 87.85360163, 88.11046788, 87.99097785, 87.68680377,\n",
       "       87.89788244, 87.96240605, 88.04218457, 88.04925403, 88.51676648,\n",
       "       87.99260441, 87.8394796 , 88.12129008, 87.5163016 , 88.12805693,\n",
       "       88.92222821, 88.30166732, 87.96089315, 87.98029622, 87.78106097,\n",
       "       87.92174845, 87.54769147, 87.62376282, 87.65923185, 87.88556882,\n",
       "       87.53948448, 88.0589287 , 88.22869724, 87.45161432, 87.67786741,\n",
       "       88.23580334, 87.94320551, 87.97191796, 87.80060952, 86.82348345,\n",
       "       87.93266575, 88.24480098, 87.91194579, 87.65755148, 87.54454226,\n",
       "       87.77773753, 88.03664264, 88.26676044, 88.17064852, 87.8209412 ,\n",
       "       87.5171942 , 88.01706202, 87.37352409, 87.8340692 , 88.15094871,\n",
       "       88.0046434 , 88.12595559, 87.85304302, 87.19398005, 87.65963342,\n",
       "       87.78001514, 87.80567701, 87.79894603, 88.20372208, 87.6242311 ,\n",
       "       87.02938427, 87.37739149, 88.15691805, 87.99279148, 88.50157889,\n",
       "       88.02536524, 88.08883451, 87.8014844 , 87.74358407, 87.93333745,\n",
       "       87.81634282, 87.90422973, 87.87100875, 87.76870256, 88.15886285,\n",
       "       88.02165786, 87.0374361 , 88.33210556, 88.078841  , 87.97436364,\n",
       "       87.9530723 , 88.12077918, 88.00998582, 88.36311625, 87.54612931,\n",
       "       88.24920859, 87.89867639, 88.53139211, 88.03056425, 88.29569588,\n",
       "       88.46164606, 87.839759  , 87.6800357 , 88.01483288, 88.00348445,\n",
       "       87.8185948 , 87.62866465, 88.13525987, 87.69517504, 87.9839737 ,\n",
       "       87.67961172, 88.11037207, 87.53810577, 87.84266065, 87.97328783,\n",
       "       88.05307283, 87.94277578, 88.0139279 , 88.01269596, 87.90004536,\n",
       "       87.86822414, 87.6350098 , 88.276914  , 87.84814021, 87.92001184,\n",
       "       87.65505121, 87.46369819, 83.50104413, 88.06276361, 87.9327922 ,\n",
       "       87.70360325, 87.56828303, 88.06341145, 87.91217282, 88.02531151,\n",
       "       88.1311288 , 88.03425391, 88.19196605, 87.88156043, 87.70690954,\n",
       "       87.91053257, 86.97792439, 88.08131134, 88.08649062, 88.0243703 ,\n",
       "       87.95221866, 87.81221876, 87.70590934, 88.20736203, 87.41853844,\n",
       "       88.02505626, 87.89216411, 87.81213563, 87.63693262, 88.21183879,\n",
       "       88.41066826, 87.62257518, 87.74705791, 87.73896448, 83.98268761,\n",
       "       87.09547741, 87.8596395 , 87.90987702, 87.73271213, 86.53224062,\n",
       "       87.84321275, 87.60858588, 87.64134131, 87.75926605, 87.06648467,\n",
       "       88.56439267, 88.31830927, 87.92134319, 87.79996114, 88.05652377,\n",
       "       88.09826039, 87.77443848, 88.09659195, 87.87693886, 87.67311115,\n",
       "       88.06043214, 87.15892781, 87.28388676, 87.76977408, 87.81286678,\n",
       "       88.73746594, 88.25753413, 88.3516289 , 88.42127537, 88.16958008,\n",
       "       88.12404301, 87.48117898, 87.83068126, 87.90215113, 87.92915305,\n",
       "       87.89649414, 88.18664743, 88.17387366, 88.06044093, 88.32122645,\n",
       "       87.69603294, 87.61411129, 88.02809665, 87.80303432, 88.01562112,\n",
       "       88.20639164, 88.16810025, 87.79773714, 87.55878996, 87.46988183,\n",
       "       88.16658307, 88.2274108 , 87.8915938 , 88.1988244 , 87.64593011,\n",
       "       87.83735704, 88.74091143, 87.76086059, 86.78675644, 87.75763845,\n",
       "       88.29416163, 88.05823874, 88.10011966, 88.06522999, 88.00953088,\n",
       "       87.82631909, 87.94747716, 87.9433202 , 87.72748308, 88.66763346,\n",
       "       87.99275593, 87.94090875, 88.18206313, 88.21549386, 87.99456086,\n",
       "       87.69089817, 87.31853233, 88.06515425, 87.75786942, 87.25134023,\n",
       "       88.19194151, 88.04663395, 87.80071134, 86.91489451, 87.80720978,\n",
       "       87.75702219, 87.37605023, 87.95160004, 88.18767853, 87.85450946,\n",
       "       88.1311882 , 87.8716888 , 88.0518559 , 87.82643754, 87.94861596,\n",
       "       88.29493454, 87.89363966, 88.15410211, 87.94057719, 88.06069347,\n",
       "       88.05336388, 87.76023392, 87.31774683, 88.23460842, 87.84372348,\n",
       "       87.7109665 , 88.36455497, 87.96953422, 87.76155068, 88.04960311,\n",
       "       88.53791571, 87.70644418, 87.97487586, 88.13653514, 88.13737686,\n",
       "       88.0036167 , 88.09097676, 88.4218694 , 87.80305558, 88.11707749,\n",
       "       88.13808581, 88.32635797, 88.03696482, 88.27361013, 88.30538216,\n",
       "       88.32630159, 87.98322081, 88.21596416, 88.3730728 , 87.98418616,\n",
       "       88.12560588, 87.85613448, 87.31198505, 87.95138049, 88.24859613,\n",
       "       87.58754849, 87.89956654, 88.21850914, 87.88829504, 87.6196062 ,\n",
       "       88.23375462, 88.38073766, 88.18463211, 87.48465944, 88.0757487 ,\n",
       "       88.07044646, 86.58038321, 87.47271499, 88.22043144, 87.52368983,\n",
       "       88.08326471, 87.58589899, 88.12044867, 87.76048964, 84.68812962,\n",
       "       87.7505646 , 87.62446782, 87.4218435 , 88.33689978, 88.38865631,\n",
       "       87.84826569, 88.16521109, 88.15976106, 87.72011789, 88.07174552,\n",
       "       88.24180465, 88.3229878 , 87.95719385, 88.1992697 , 89.41471234,\n",
       "       87.68300565, 87.68804092, 88.11232079, 87.46703995, 88.06936963,\n",
       "       87.62374011, 87.70310833, 87.99750727, 87.98212858, 88.37833536,\n",
       "       88.42203816, 88.14635412, 88.19852161, 88.26692411, 87.92563027,\n",
       "       88.38006418, 88.19579714, 88.39505592, 87.84630323, 88.1395987 ,\n",
       "       88.03282254, 88.39639121, 88.11471699, 88.27157359, 88.05818516,\n",
       "       87.93924637, 88.33796035, 87.68163456, 88.04213634, 87.94433005,\n",
       "       87.92817073, 88.121945  , 87.29636571, 88.10610795, 88.01097044,\n",
       "       87.95402541, 87.79743638, 88.23905004, 88.23767046, 88.16470447,\n",
       "       87.81527098, 87.81051702, 86.81658179, 87.93604796, 87.98394409,\n",
       "       88.01867746, 88.03737796, 88.1903385 , 88.4338173 , 88.18964973,\n",
       "       88.22913112, 88.14626572, 87.67356257, 88.10145239, 87.9784361 ,\n",
       "       87.74148078, 88.44452363, 88.55319408, 88.28676303, 88.21216466,\n",
       "       87.94169044, 88.13216795, 88.01083681, 87.96043264, 87.66548234,\n",
       "       88.07702416, 88.12503497, 88.29120275, 88.34992807, 87.75499357,\n",
       "       87.91505389, 88.28288681, 88.21498798, 88.30289916, 88.28037829,\n",
       "       87.71011431, 88.46741417, 88.17228627, 88.20468885, 88.39950174,\n",
       "       87.66830498, 88.01135871, 87.93106456, 89.25711849, 87.96882503,\n",
       "       87.87723096, 88.17191686, 87.72536674, 87.76392102, 88.09705705,\n",
       "       88.20321445, 88.24234749, 87.99920062, 87.67091874, 88.10068599,\n",
       "       88.35827807, 87.92072275, 88.36048724, 87.93897573, 87.73722057,\n",
       "       88.21816796, 87.84888923, 87.6874782 , 87.71865079, 88.2888397 ,\n",
       "       88.3020061 , 88.4073576 , 88.46244271, 87.28878341, 88.54252578,\n",
       "       88.34232499, 88.40174606, 87.87693055, 88.02120387, 88.52661808,\n",
       "       87.5021029 , 88.03393826, 88.55510476, 88.84167285, 87.83729518,\n",
       "       88.22852618, 87.59769272, 87.80326161, 87.77369156, 88.3192382 ,\n",
       "       87.73181451, 87.71402146, 88.43366926, 88.25217412, 87.6609383 ,\n",
       "       87.78844796, 88.14515978, 87.37421781, 87.53570355, 88.10851111,\n",
       "       87.85385416, 88.82945233, 88.74369076, 88.43205781, 87.06203541,\n",
       "       88.38562736, 87.99597405, 88.34167143, 88.1614907 , 87.98964088,\n",
       "       88.32804976, 87.82548808, 88.22515114, 88.32659981, 88.17334008,\n",
       "       88.35872962, 88.41883498, 88.11907881, 88.03545663, 88.31066271,\n",
       "       87.73492551, 88.14278727, 87.38059497, 88.1581754 , 87.82683299,\n",
       "       87.98203702, 88.36868974, 87.93226595, 88.08553293, 88.41292216,\n",
       "       87.82805946, 88.05056342, 87.91317431, 88.14257649, 87.79471628,\n",
       "       88.39790616, 88.12109339, 87.43346109, 88.06798411, 88.16768201,\n",
       "       87.78833688, 88.1395162 , 87.96336821, 87.72938577, 87.89826627,\n",
       "       87.48349693, 87.75373985, 88.36285297, 88.29150996, 88.0132587 ,\n",
       "       87.81134006, 88.03930316, 87.75758038, 88.1114726 , 88.29684085,\n",
       "       88.21151759, 88.25032769, 87.63386572, 87.51674381, 88.22433676,\n",
       "       86.81748178, 87.74827921, 87.8091143 , 88.12514165, 87.93139001,\n",
       "       87.80227299, 87.97588513, 88.18790987, 88.49385127, 88.1361849 ,\n",
       "       88.15869697, 88.13930315, 87.60832649, 88.31511252, 88.10111054,\n",
       "       88.65844244, 87.76783529, 88.13443222, 88.15863079, 88.03053814,\n",
       "       87.86925178, 88.05657897, 87.95464467, 88.01166051, 87.53251348,\n",
       "       88.05108863, 87.39082568, 87.87464474, 87.99196807, 88.30144384,\n",
       "       87.72134382, 87.75218757, 88.14487526, 88.40556143, 87.4023375 ,\n",
       "       87.9248938 , 88.03445496, 88.01060941, 87.75205904, 88.10191289,\n",
       "       88.0546465 , 88.09257686, 88.16040467, 88.73716416, 88.01413078,\n",
       "       88.35446888, 88.02842769, 88.56998738, 88.15231368, 88.41402621,\n",
       "       88.37757911, 88.26466745, 88.08644195, 88.50876756, 87.92554227,\n",
       "       88.43856461, 87.66031157, 87.6015983 , 88.30598459, 87.28629047,\n",
       "       87.54735695, 87.73567703, 87.98075727, 88.20408707, 88.21630498,\n",
       "       87.7154435 , 88.08890601, 87.80608317, 87.94430269, 88.22389718,\n",
       "       87.40122255, 87.91963585, 88.22768216, 87.84542754, 88.0242356 ,\n",
       "       87.91110082, 88.20477609, 87.42730754, 87.91976714, 88.35856158,\n",
       "       88.3500323 , 88.23878922, 87.90309041])"
      ]
     },
     "execution_count": 249,
     "metadata": {},
     "output_type": "execute_result"
    }
   ],
   "source": [
    "pca = PCA(n_components=0.14)\n",
    "x_2_scaled_reduced = pca.fit_transform(x_2_scaled)\n",
    "x_t2_scaled_reduced = pca.transform(x_t2_scaled)\n",
    "\n",
    "elastic_net_t = ElasticNet(alpha=0.1, l1_ratio=0.1)\n",
    "elastic_net_t.fit(x_2_scaled_reduced, y_2)\n",
    "\n",
    "y_t2_en = elastic_net_t.predict(x_t2_scaled_reduced)\n",
    "y_t2_en"
   ]
  },
  {
   "cell_type": "code",
   "execution_count": 248,
   "metadata": {},
   "outputs": [
    {
     "data": {
      "text/plain": [
       "array([88.14732084, 87.90257994, 88.79348378, 88.03884503, 88.5220673 ,\n",
       "       88.22559691, 88.4377996 , 88.98453103, 89.0136177 , 88.53037617,\n",
       "       87.67089941, 87.72919049, 89.02262753, 87.91700414, 88.02995698,\n",
       "       88.34798513, 88.25202863, 88.88911402, 87.46556868, 88.80934325,\n",
       "       88.42590818, 88.55827291, 89.05886297, 88.14130143, 88.31871342,\n",
       "       87.69860273, 88.65328833, 88.83040926, 89.01010641, 88.22298327,\n",
       "       88.0952616 , 86.86867093, 89.31363305, 88.85745928, 89.24942804,\n",
       "       88.06677179, 87.66969007, 88.93579691, 87.95303006, 87.26935998,\n",
       "       87.67633301, 87.98644682, 88.28631252, 88.28189649, 88.67294047,\n",
       "       88.26038335, 88.33468395, 89.02372588, 88.15469605, 88.33074757,\n",
       "       87.63072234, 88.52288901, 88.48896586, 88.43651279, 88.43966081,\n",
       "       88.59251546, 87.70203017, 88.18471171, 87.751911  , 87.30934113,\n",
       "       89.09638313, 88.00030802, 88.23305946, 88.1877766 , 87.53855044,\n",
       "       88.62275769, 88.52326021, 87.91457056, 88.14363574, 88.83740579,\n",
       "       88.23806185, 87.87131064, 88.04981928, 88.84495045, 88.03141757,\n",
       "       88.38250643, 88.27300757, 88.30096797, 88.34096407, 87.9793461 ,\n",
       "       88.06844359, 87.53801451, 88.23259156, 87.72134894, 88.19314981,\n",
       "       87.68272587, 88.19685771, 88.40840772, 88.23669782, 88.11315156,\n",
       "       88.7277757 , 89.24162386, 88.62047276, 88.09510299, 87.9892854 ,\n",
       "       87.82834273, 88.5554224 , 88.35725036, 87.93157269, 87.89275732,\n",
       "       87.57462415, 88.44032997, 87.75380043, 87.45821759, 88.31629449,\n",
       "       87.83974361, 87.96532977, 88.3252435 , 88.25955976, 88.38022164,\n",
       "       87.91717122, 88.13905062, 87.96523263, 88.87433978, 87.79380862,\n",
       "       88.42809216, 88.87539108, 88.20554513, 87.9458169 , 87.78619541,\n",
       "       88.14730425, 89.02724424, 88.40862567, 88.44584143, 87.61266108,\n",
       "       88.19705627, 87.96540794, 88.44455526, 87.84664909, 88.2548221 ,\n",
       "       88.32143337, 88.30336402, 88.25773884, 87.41369492, 88.8797437 ,\n",
       "       88.34150992, 87.39663392, 88.19931905, 86.29895743, 87.79113788,\n",
       "       88.23996301, 87.70658111, 88.94214136, 89.0988158 , 88.47753896,\n",
       "       88.59429343, 88.18944903, 87.40512947, 88.62537256, 88.15532448,\n",
       "       88.13183675, 87.75762754, 88.26490248, 88.12962889, 88.10506541,\n",
       "       87.98536245, 87.65675708, 87.77320453, 88.06369959, 88.29704922,\n",
       "       87.6051074 , 88.10574387, 88.25801008, 88.20785279, 87.82598428,\n",
       "       88.4244589 , 87.40004744, 88.30716915, 87.76776363, 87.4653908 ,\n",
       "       88.59729401, 87.42430263, 88.28562636, 88.76759175, 87.54249078,\n",
       "       87.89274683, 88.09315892, 88.41399225, 88.24530591, 88.56385972,\n",
       "       88.0871443 , 87.97154026, 88.00569178, 88.1030504 , 88.10013582,\n",
       "       87.9796641 , 87.77149483, 87.87632349, 88.31708495, 87.76953122,\n",
       "       87.94823395, 88.6418573 , 88.40380004, 87.88483301, 87.90248023,\n",
       "       88.55000029, 88.60214224, 87.81802834, 88.30188093, 87.92228235,\n",
       "       87.69347483, 87.76443195, 87.59612132, 88.42711211, 87.89002337,\n",
       "       88.34827497, 87.52136267, 88.36362763, 88.28875387, 87.60260469,\n",
       "       88.486956  , 87.73195434, 87.84666409, 88.50837128, 87.55937948,\n",
       "       87.82017103, 88.35728202, 88.20231384, 88.06077052, 88.16879062,\n",
       "       88.40083606, 87.6804081 , 87.74027881, 87.70643039, 88.45967583,\n",
       "       87.86046958, 88.34566353, 88.14440691, 88.2577115 , 88.36386304,\n",
       "       87.93295004, 88.41465021, 88.22061979, 88.09773631, 88.49144439,\n",
       "       87.30459727, 88.43253729, 88.23169688, 88.17540487, 87.88373735,\n",
       "       88.04279552, 88.07890156, 88.05884147, 88.10357419, 88.80688647,\n",
       "       88.12342657, 88.10071165, 88.55748683, 87.59116269, 88.19160264,\n",
       "       89.58088527, 88.47487425, 88.13524004, 88.23703371, 87.52028778,\n",
       "       88.15317118, 87.68054571, 88.0109477 , 87.53523062, 88.19391684,\n",
       "       87.87356427, 88.14262855, 88.32445698, 87.9361414 , 87.87872508,\n",
       "       88.28277912, 88.29365897, 88.05765638, 87.98905541, 87.20196504,\n",
       "       88.05940452, 88.2448904 , 87.97081935, 87.8978635 , 87.61504996,\n",
       "       88.16646357, 88.55544767, 88.61927226, 88.29536512, 88.21998895,\n",
       "       88.08210658, 88.17835312, 87.74619991, 87.8899678 , 88.28992422,\n",
       "       88.06314822, 87.80760421, 88.21578253, 87.46597986, 88.07409841,\n",
       "       88.25029434, 87.46501193, 87.73262424, 88.47505372, 87.72386939,\n",
       "       87.17398016, 87.77946   , 88.39308334, 88.42560487, 88.72383842,\n",
       "       88.79228936, 88.44124683, 87.92130403, 87.62616093, 88.32156078,\n",
       "       87.62402475, 88.04741504, 88.02486079, 88.09907791, 88.74874333,\n",
       "       88.42790787, 87.39280401, 88.38305208, 88.11378675, 88.20579541,\n",
       "       88.15262128, 88.32507995, 88.55786149, 88.9441136 , 87.89921608,\n",
       "       88.45995563, 88.19901203, 89.23665553, 88.14355515, 88.50677572,\n",
       "       88.90915133, 88.19844493, 87.62465325, 88.23565324, 88.17902384,\n",
       "       88.30831932, 87.95778988, 88.06280105, 88.07944004, 88.4555516 ,\n",
       "       87.89664244, 88.1937869 , 87.6005321 , 88.18912093, 88.09397264,\n",
       "       88.24253529, 88.10458321, 88.09298107, 88.12600361, 88.23646689,\n",
       "       88.34239483, 87.97142283, 88.82376051, 87.77498891, 88.28124473,\n",
       "       87.8632506 , 87.77466065, 83.44361026, 88.13894544, 87.98851054,\n",
       "       87.96317819, 87.52860075, 88.3855102 , 88.17546407, 88.69559302,\n",
       "       88.18911966, 88.46184947, 88.21184257, 88.08957052, 88.06740049,\n",
       "       88.33968539, 87.52416067, 88.09990725, 88.37950189, 88.15367884,\n",
       "       88.51395256, 88.11081564, 88.01714935, 88.5902001 , 87.75189579,\n",
       "       87.75047409, 88.04063645, 88.07527444, 87.81668833, 88.38867049,\n",
       "       88.76848568, 87.77383216, 87.82653114, 87.98207276, 84.76685567,\n",
       "       87.08007969, 87.89178729, 88.08910918, 87.90454346, 86.66753764,\n",
       "       87.97374437, 87.6407444 , 87.99219048, 88.06392887, 87.53214365,\n",
       "       88.1380016 , 89.04541816, 88.31282571, 88.45367408, 88.04853807,\n",
       "       88.18677389, 87.87406939, 88.17711671, 88.01657864, 87.69637904,\n",
       "       88.54223627, 87.79618997, 87.70244088, 88.18525017, 88.21927463,\n",
       "       89.13759707, 88.42758686, 88.62006075, 88.25453285, 88.36405142,\n",
       "       88.2502073 , 87.5980081 , 88.27498156, 88.02254723, 88.17944305,\n",
       "       87.69550539, 88.45179887, 88.1410489 , 88.19235869, 88.21387009,\n",
       "       88.17605183, 87.9577619 , 88.2786562 , 87.8452044 , 88.23700335,\n",
       "       88.49956292, 88.54387405, 87.65059262, 87.75868783, 87.49785349,\n",
       "       88.03078766, 88.40028752, 88.42490129, 88.31950385, 87.87800969,\n",
       "       88.08144881, 88.80580259, 88.11966536, 86.61316679, 87.9218759 ,\n",
       "       88.4678673 , 88.21718261, 88.40566502, 87.96970921, 88.01777556,\n",
       "       87.70304706, 88.13699668, 88.12635497, 87.83611496, 88.55403412,\n",
       "       87.95189304, 87.26812488, 88.13769653, 88.62725286, 88.27895675,\n",
       "       87.53527495, 88.36770038, 87.68885741, 87.84701773, 87.48584928,\n",
       "       88.44431506, 88.2348722 , 88.19812406, 87.60149221, 88.22172841,\n",
       "       87.71053542, 87.45075505, 88.07230292, 88.3728111 , 88.29589185,\n",
       "       88.61312034, 88.38648889, 87.99967282, 87.65569792, 88.41400756,\n",
       "       88.65890334, 87.63029036, 88.37858775, 87.83885109, 88.16542036,\n",
       "       88.34095486, 88.33332632, 89.12350547, 88.43645175, 88.0847063 ,\n",
       "       87.95956277, 88.25745605, 88.08622467, 88.03870578, 88.32544816,\n",
       "       88.83584729, 87.85656042, 88.60086263, 87.86132961, 88.53827365,\n",
       "       88.55643661, 88.48026585, 88.44822853, 88.07575714, 88.00960485,\n",
       "       88.96282546, 88.24859054, 88.26294783, 88.51615465, 88.85149987,\n",
       "       88.38598117, 88.23117836, 88.36090412, 87.98250557, 88.08710802,\n",
       "       88.43900422, 87.48414041, 87.2021267 , 88.22312604, 88.31287898,\n",
       "       87.88787786, 88.21449969, 88.57211378, 88.11685533, 87.55797805,\n",
       "       88.26033913, 88.61841444, 88.49744359, 87.66490449, 88.22467464,\n",
       "       88.21293489, 86.54511812, 87.6515572 , 88.37223302, 87.79727599,\n",
       "       88.19579277, 87.3667065 , 88.31356841, 87.69179552, 84.58637934,\n",
       "       87.80975595, 87.74833212, 87.7781579 , 88.60546531, 88.63657834,\n",
       "       88.45818127, 88.29290823, 88.25207343, 87.54354006, 88.25948975,\n",
       "       88.28802511, 88.27791996, 88.1785829 , 88.06398858, 88.06738085,\n",
       "       87.7531748 , 88.07039701, 88.39468673, 87.8729427 , 88.38119927,\n",
       "       87.70026233, 87.87482724, 87.91130017, 88.16645053, 88.40211299,\n",
       "       88.39603907, 88.26465556, 88.22911594, 88.27636672, 88.0212396 ,\n",
       "       88.77142799, 88.06230846, 88.57947942, 88.22175697, 88.18930215,\n",
       "       88.09550838, 88.58952222, 88.11040084, 88.4624089 , 88.17933476,\n",
       "       88.14662118, 88.38050278, 88.08859004, 88.12323912, 88.39534368,\n",
       "       88.05342279, 88.01354094, 86.83323748, 88.19326034, 88.29940009,\n",
       "       88.0475512 , 88.07369895, 88.32195485, 88.44306784, 87.91517209,\n",
       "       87.98951631, 87.92717218, 86.9914276 , 88.2238402 , 87.83477283,\n",
       "       88.25286721, 88.22300184, 88.15267493, 88.76388671, 88.09953455,\n",
       "       87.94906362, 88.50319306, 87.6818657 , 88.3375138 , 87.91035768,\n",
       "       87.94050784, 88.99060462, 88.58501302, 88.65931993, 88.29949341,\n",
       "       88.41476507, 88.19322669, 87.8251296 , 88.08442091, 87.83949061,\n",
       "       88.19385272, 88.19652584, 88.15169284, 88.27988563, 87.97606904,\n",
       "       88.37329911, 88.53332734, 88.0951968 , 88.26854034, 88.50433633,\n",
       "       87.71734768, 88.73506553, 88.1648121 , 88.1466886 , 88.65570702,\n",
       "       87.59709077, 87.91538237, 88.18819127, 89.17519734, 88.36082524,\n",
       "       88.16126981, 88.11392223, 87.77217062, 87.87435306, 87.64468664,\n",
       "       88.16571854, 88.13294387, 88.3717891 , 88.08309195, 88.16934525,\n",
       "       88.45242837, 88.23943099, 88.17797091, 87.9927934 , 87.99966979,\n",
       "       88.6707405 , 87.77700084, 87.86294687, 87.68661285, 88.4239128 ,\n",
       "       88.55253738, 88.5940019 , 88.4571312 , 87.71221874, 88.67814435,\n",
       "       88.38730979, 88.48238769, 88.28901773, 88.33789699, 88.56154701,\n",
       "       87.366836  , 88.28845966, 88.58898196, 89.01613088, 87.73306509,\n",
       "       88.46710657, 87.24674521, 88.03516293, 88.08096213, 88.31356064,\n",
       "       88.12515083, 88.00876861, 88.54605812, 88.64621354, 87.60996643,\n",
       "       87.78571565, 88.63001532, 87.30774216, 87.71562053, 88.26485299,\n",
       "       88.06729731, 88.98794436, 88.49986857, 88.35068651, 86.9129194 ,\n",
       "       88.38477287, 88.23027568, 88.31384059, 88.50405362, 88.37546652,\n",
       "       88.38493207, 87.7644258 , 88.28635303, 88.76171227, 88.20251236,\n",
       "       88.42580951, 88.43281545, 87.85741498, 87.78613631, 88.51422429,\n",
       "       88.21535829, 88.32371625, 87.35193748, 88.47101262, 88.26513025,\n",
       "       88.12370188, 88.59154465, 88.08172565, 87.97692496, 88.50942808,\n",
       "       88.18856021, 88.12142987, 87.73224248, 88.08048651, 87.91017098,\n",
       "       88.75845243, 88.20241961, 87.87560967, 88.20668086, 88.32732153,\n",
       "       87.84947056, 88.38359755, 88.11149599, 87.9052832 , 88.04829537,\n",
       "       87.79789747, 87.83706172, 88.46306492, 88.36359469, 88.21185314,\n",
       "       87.90746507, 88.03076547, 88.06479179, 88.49477047, 88.37728772,\n",
       "       88.2425797 , 88.44060149, 87.5573218 , 87.62620989, 88.29602597,\n",
       "       86.81397249, 87.67282552, 88.3562342 , 88.27663761, 87.94756688,\n",
       "       88.0812266 , 88.12223078, 88.28374683, 88.42164471, 88.30210181,\n",
       "       88.14676066, 88.21327492, 87.79633668, 88.45304622, 88.42937043,\n",
       "       88.0869167 , 88.06387258, 88.23410078, 88.19174498, 88.31748511,\n",
       "       87.94358556, 88.28938986, 87.82514657, 87.85217238, 87.58552422,\n",
       "       88.30589379, 87.48363229, 88.05327495, 88.36919088, 88.60840179,\n",
       "       88.45785936, 88.10807909, 87.96199553, 88.66302547, 87.73311494,\n",
       "       87.65176097, 87.70475722, 88.14452261, 88.19233856, 88.55164835,\n",
       "       88.21228093, 88.19786226, 88.40514775, 88.41941885, 87.98327159,\n",
       "       88.42044557, 88.31091026, 88.24634112, 88.2355783 , 88.7388956 ,\n",
       "       88.48188676, 88.30625719, 88.1690179 , 88.82287399, 88.3004944 ,\n",
       "       88.79454324, 87.91554748, 88.07605817, 88.60871372, 87.31926879,\n",
       "       87.74003507, 87.87981105, 88.19131122, 88.44109957, 88.4753695 ,\n",
       "       88.07602383, 88.45110155, 87.89153842, 87.72312175, 87.86171776,\n",
       "       87.10655113, 87.88692996, 88.5614791 , 88.02455822, 88.0996869 ,\n",
       "       87.92480778, 88.25866645, 87.68349723, 88.11029264, 88.42012166,\n",
       "       88.32667968, 88.29288011, 87.85310438])"
      ]
     },
     "execution_count": 248,
     "metadata": {},
     "output_type": "execute_result"
    }
   ],
   "source": [
    "pca = PCA(n_components=0.29)\n",
    "x_5_scaled_reduced = pca.fit_transform(x_2_scaled)\n",
    "x_t3_scaled_reduced = pca.transform(x_t2_scaled)\n",
    "\n",
    "svm_reg_t = LinearSVR(epsilon=1.6)\n",
    "svm_reg_t.fit(x_5_scaled_reduced, y_2)\n",
    "\n",
    "y_t2_svr = svm_reg_t.predict(x_t3_scaled_reduced)\n",
    "y_t2_svr"
   ]
  },
  {
   "cell_type": "code",
   "execution_count": 242,
   "metadata": {},
   "outputs": [
    {
     "data": {
      "text/plain": [
       "(833, 23)"
      ]
     },
     "execution_count": 242,
     "metadata": {},
     "output_type": "execute_result"
    }
   ],
   "source": [
    "x_t2_scaled_reduced.shape\n",
    "#x_5_scaled_reduced.shape"
   ]
  },
  {
   "cell_type": "code",
   "execution_count": 253,
   "metadata": {},
   "outputs": [],
   "source": [
    "y_t2_en_df = pd.DataFrame(y_t2_en)\n",
    "y_t2_svr_df = pd.DataFrame(y_t2_svr)\n",
    "\n",
    "y_t2_en_df.to_csv('elastic_net.csv')\n",
    "y_t2_svr_df.to_csv('svr.csv')"
   ]
  },
  {
   "cell_type": "code",
   "execution_count": 252,
   "metadata": {},
   "outputs": [],
   "source": []
  },
  {
   "cell_type": "code",
   "execution_count": null,
   "metadata": {},
   "outputs": [],
   "source": []
  }
 ],
 "metadata": {
  "kernelspec": {
   "display_name": "Python 3",
   "language": "python",
   "name": "python3"
  },
  "language_info": {
   "codemirror_mode": {
    "name": "ipython",
    "version": 3
   },
   "file_extension": ".py",
   "mimetype": "text/x-python",
   "name": "python",
   "nbconvert_exporter": "python",
   "pygments_lexer": "ipython3",
   "version": "3.7.0"
  }
 },
 "nbformat": 4,
 "nbformat_minor": 2
}
