{
 "cells": [
  {
   "cell_type": "code",
   "execution_count": 125,
   "metadata": {},
   "outputs": [],
   "source": [
    "import pandas as pd\n",
    "import numpy as np\n",
    "import matplotlib.pyplot as plt\n",
    "from sklearn.metrics import mean_squared_error"
   ]
  },
  {
   "cell_type": "code",
   "execution_count": 2,
   "metadata": {},
   "outputs": [],
   "source": [
    "org = pd.read_csv('trainset.csv')\n",
    "\n",
    "org.describe()\n",
    "x = org"
   ]
  },
  {
   "cell_type": "code",
   "execution_count": 85,
   "metadata": {
    "scrolled": false
   },
   "outputs": [],
   "source": [
    "drop_name_95 = []\n",
    "for i in range(0, x.shape[1]):\n",
    "    if x.iloc[:, i].count() < x.shape[0]*0.95:\n",
    "        drop_name_95.append(x.iloc[:, i].name)\n",
    "drop_name_95.append(x.iloc[:, 0].name)\n",
    "drop_name_95.append(x.iloc[:, 1].name)\n",
    "\n",
    "for i in range(0, x.shape[1]):\n",
    "    if x.iloc[:, i].dtype == 'O':\n",
    "        drop_name_95.append(x.iloc[:, i].name)"
   ]
  },
  {
   "cell_type": "code",
   "execution_count": 88,
   "metadata": {},
   "outputs": [],
   "source": [
    "drop_name_90 = []\n",
    "for i in range(0, x.shape[1]):\n",
    "    if x.iloc[:, i].count() < x.shape[0]*0.9:\n",
    "        drop_name_90.append(x.iloc[:, i].name)\n",
    "drop_name_90.append(x.iloc[:, 0].name)\n",
    "drop_name_90.append(x.iloc[:, 1].name)\n",
    "\n",
    "for i in range(0, x.shape[1]):\n",
    "    if x.iloc[:, i].dtype == 'O':\n",
    "        drop_name_90.append(x.iloc[:, i].name)"
   ]
  },
  {
   "cell_type": "code",
   "execution_count": 123,
   "metadata": {},
   "outputs": [
    {
     "data": {
      "text/html": [
       "<div>\n",
       "<style scoped>\n",
       "    .dataframe tbody tr th:only-of-type {\n",
       "        vertical-align: middle;\n",
       "    }\n",
       "\n",
       "    .dataframe tbody tr th {\n",
       "        vertical-align: top;\n",
       "    }\n",
       "\n",
       "    .dataframe thead th {\n",
       "        text-align: right;\n",
       "    }\n",
       "</style>\n",
       "<table border=\"1\" class=\"dataframe\">\n",
       "  <thead>\n",
       "    <tr style=\"text-align: right;\">\n",
       "      <th></th>\n",
       "      <th>Unnamed: 0</th>\n",
       "      <th>ID</th>\n",
       "      <th>x1</th>\n",
       "      <th>x3</th>\n",
       "      <th>x4</th>\n",
       "      <th>x5</th>\n",
       "      <th>x6</th>\n",
       "      <th>x7</th>\n",
       "      <th>x8</th>\n",
       "      <th>x9</th>\n",
       "      <th>...</th>\n",
       "      <th>x1479</th>\n",
       "      <th>x1480</th>\n",
       "      <th>x1481</th>\n",
       "      <th>x1482</th>\n",
       "      <th>x1483</th>\n",
       "      <th>x1484</th>\n",
       "      <th>x1485</th>\n",
       "      <th>x1486</th>\n",
       "      <th>x1548</th>\n",
       "      <th>Y</th>\n",
       "    </tr>\n",
       "  </thead>\n",
       "  <tbody>\n",
       "    <tr>\n",
       "      <th>count</th>\n",
       "      <td>2496.000000</td>\n",
       "      <td>2496.000000</td>\n",
       "      <td>176.000000</td>\n",
       "      <td>338.000000</td>\n",
       "      <td>288.000000</td>\n",
       "      <td>78.000000</td>\n",
       "      <td>287.000000</td>\n",
       "      <td>369.000000</td>\n",
       "      <td>220.000000</td>\n",
       "      <td>81.000000</td>\n",
       "      <td>...</td>\n",
       "      <td>401.000000</td>\n",
       "      <td>261.000000</td>\n",
       "      <td>261.000000</td>\n",
       "      <td>293.000000</td>\n",
       "      <td>97.000000</td>\n",
       "      <td>566.000000</td>\n",
       "      <td>209.000000</td>\n",
       "      <td>121.000000</td>\n",
       "      <td>2496.000000</td>\n",
       "      <td>2496.000000</td>\n",
       "    </tr>\n",
       "    <tr>\n",
       "      <th>mean</th>\n",
       "      <td>1248.500000</td>\n",
       "      <td>3498.262019</td>\n",
       "      <td>0.202822</td>\n",
       "      <td>23.462417</td>\n",
       "      <td>40.166706</td>\n",
       "      <td>17.585443</td>\n",
       "      <td>205.843205</td>\n",
       "      <td>-0.002545</td>\n",
       "      <td>16.874992</td>\n",
       "      <td>1.565936</td>\n",
       "      <td>...</td>\n",
       "      <td>5.089776</td>\n",
       "      <td>3.582375</td>\n",
       "      <td>2.042146</td>\n",
       "      <td>1.595563</td>\n",
       "      <td>0.020619</td>\n",
       "      <td>2.582597</td>\n",
       "      <td>0.177033</td>\n",
       "      <td>0.487603</td>\n",
       "      <td>81.805795</td>\n",
       "      <td>87.964741</td>\n",
       "    </tr>\n",
       "    <tr>\n",
       "      <th>std</th>\n",
       "      <td>720.677459</td>\n",
       "      <td>2022.701845</td>\n",
       "      <td>0.713453</td>\n",
       "      <td>0.153266</td>\n",
       "      <td>0.837538</td>\n",
       "      <td>2.092379</td>\n",
       "      <td>2.891404</td>\n",
       "      <td>0.144953</td>\n",
       "      <td>0.259730</td>\n",
       "      <td>0.320677</td>\n",
       "      <td>...</td>\n",
       "      <td>8.339854</td>\n",
       "      <td>7.318044</td>\n",
       "      <td>4.179638</td>\n",
       "      <td>3.116914</td>\n",
       "      <td>0.142842</td>\n",
       "      <td>6.049823</td>\n",
       "      <td>0.741781</td>\n",
       "      <td>2.098077</td>\n",
       "      <td>10.900766</td>\n",
       "      <td>3.117598</td>\n",
       "    </tr>\n",
       "    <tr>\n",
       "      <th>min</th>\n",
       "      <td>1.000000</td>\n",
       "      <td>4.000000</td>\n",
       "      <td>-1.721111</td>\n",
       "      <td>23.072500</td>\n",
       "      <td>37.468750</td>\n",
       "      <td>13.435000</td>\n",
       "      <td>199.316154</td>\n",
       "      <td>-0.445556</td>\n",
       "      <td>16.165000</td>\n",
       "      <td>0.490000</td>\n",
       "      <td>...</td>\n",
       "      <td>0.000000</td>\n",
       "      <td>0.000000</td>\n",
       "      <td>0.000000</td>\n",
       "      <td>0.000000</td>\n",
       "      <td>0.000000</td>\n",
       "      <td>0.000000</td>\n",
       "      <td>0.000000</td>\n",
       "      <td>0.000000</td>\n",
       "      <td>39.427581</td>\n",
       "      <td>50.324680</td>\n",
       "    </tr>\n",
       "    <tr>\n",
       "      <th>25%</th>\n",
       "      <td>624.750000</td>\n",
       "      <td>1737.500000</td>\n",
       "      <td>-0.245741</td>\n",
       "      <td>23.368125</td>\n",
       "      <td>39.699063</td>\n",
       "      <td>18.442500</td>\n",
       "      <td>204.185577</td>\n",
       "      <td>-0.098518</td>\n",
       "      <td>16.692187</td>\n",
       "      <td>1.440000</td>\n",
       "      <td>...</td>\n",
       "      <td>0.000000</td>\n",
       "      <td>0.000000</td>\n",
       "      <td>0.000000</td>\n",
       "      <td>0.000000</td>\n",
       "      <td>0.000000</td>\n",
       "      <td>0.000000</td>\n",
       "      <td>0.000000</td>\n",
       "      <td>0.000000</td>\n",
       "      <td>75.376710</td>\n",
       "      <td>87.241560</td>\n",
       "    </tr>\n",
       "    <tr>\n",
       "      <th>50%</th>\n",
       "      <td>1248.500000</td>\n",
       "      <td>3510.000000</td>\n",
       "      <td>0.174629</td>\n",
       "      <td>23.465000</td>\n",
       "      <td>40.104375</td>\n",
       "      <td>18.614167</td>\n",
       "      <td>205.832051</td>\n",
       "      <td>-0.017407</td>\n",
       "      <td>16.858125</td>\n",
       "      <td>1.553333</td>\n",
       "      <td>...</td>\n",
       "      <td>0.000000</td>\n",
       "      <td>1.000000</td>\n",
       "      <td>1.000000</td>\n",
       "      <td>0.000000</td>\n",
       "      <td>0.000000</td>\n",
       "      <td>0.000000</td>\n",
       "      <td>0.000000</td>\n",
       "      <td>0.000000</td>\n",
       "      <td>79.642922</td>\n",
       "      <td>88.481820</td>\n",
       "    </tr>\n",
       "    <tr>\n",
       "      <th>75%</th>\n",
       "      <td>1872.250000</td>\n",
       "      <td>5284.750000</td>\n",
       "      <td>0.622500</td>\n",
       "      <td>23.555416</td>\n",
       "      <td>40.529531</td>\n",
       "      <td>18.750521</td>\n",
       "      <td>207.287821</td>\n",
       "      <td>0.098889</td>\n",
       "      <td>17.051562</td>\n",
       "      <td>1.726667</td>\n",
       "      <td>...</td>\n",
       "      <td>9.000000</td>\n",
       "      <td>4.000000</td>\n",
       "      <td>2.000000</td>\n",
       "      <td>2.000000</td>\n",
       "      <td>0.000000</td>\n",
       "      <td>3.000000</td>\n",
       "      <td>0.000000</td>\n",
       "      <td>0.000000</td>\n",
       "      <td>85.431745</td>\n",
       "      <td>89.559495</td>\n",
       "    </tr>\n",
       "    <tr>\n",
       "      <th>max</th>\n",
       "      <td>2496.000000</td>\n",
       "      <td>6930.000000</td>\n",
       "      <td>2.756667</td>\n",
       "      <td>23.935000</td>\n",
       "      <td>43.834063</td>\n",
       "      <td>19.047500</td>\n",
       "      <td>235.837436</td>\n",
       "      <td>0.445556</td>\n",
       "      <td>17.544375</td>\n",
       "      <td>2.286667</td>\n",
       "      <td>...</td>\n",
       "      <td>44.000000</td>\n",
       "      <td>63.000000</td>\n",
       "      <td>37.000000</td>\n",
       "      <td>24.000000</td>\n",
       "      <td>1.000000</td>\n",
       "      <td>72.000000</td>\n",
       "      <td>6.000000</td>\n",
       "      <td>16.000000</td>\n",
       "      <td>169.237049</td>\n",
       "      <td>92.428570</td>\n",
       "    </tr>\n",
       "  </tbody>\n",
       "</table>\n",
       "<p>8 rows × 863 columns</p>\n",
       "</div>"
      ],
      "text/plain": [
       "        Unnamed: 0           ID          x1          x3          x4  \\\n",
       "count  2496.000000  2496.000000  176.000000  338.000000  288.000000   \n",
       "mean   1248.500000  3498.262019    0.202822   23.462417   40.166706   \n",
       "std     720.677459  2022.701845    0.713453    0.153266    0.837538   \n",
       "min       1.000000     4.000000   -1.721111   23.072500   37.468750   \n",
       "25%     624.750000  1737.500000   -0.245741   23.368125   39.699063   \n",
       "50%    1248.500000  3510.000000    0.174629   23.465000   40.104375   \n",
       "75%    1872.250000  5284.750000    0.622500   23.555416   40.529531   \n",
       "max    2496.000000  6930.000000    2.756667   23.935000   43.834063   \n",
       "\n",
       "              x5          x6          x7          x8         x9     ...       \\\n",
       "count  78.000000  287.000000  369.000000  220.000000  81.000000     ...        \n",
       "mean   17.585443  205.843205   -0.002545   16.874992   1.565936     ...        \n",
       "std     2.092379    2.891404    0.144953    0.259730   0.320677     ...        \n",
       "min    13.435000  199.316154   -0.445556   16.165000   0.490000     ...        \n",
       "25%    18.442500  204.185577   -0.098518   16.692187   1.440000     ...        \n",
       "50%    18.614167  205.832051   -0.017407   16.858125   1.553333     ...        \n",
       "75%    18.750521  207.287821    0.098889   17.051562   1.726667     ...        \n",
       "max    19.047500  235.837436    0.445556   17.544375   2.286667     ...        \n",
       "\n",
       "            x1479       x1480       x1481       x1482      x1483       x1484  \\\n",
       "count  401.000000  261.000000  261.000000  293.000000  97.000000  566.000000   \n",
       "mean     5.089776    3.582375    2.042146    1.595563   0.020619    2.582597   \n",
       "std      8.339854    7.318044    4.179638    3.116914   0.142842    6.049823   \n",
       "min      0.000000    0.000000    0.000000    0.000000   0.000000    0.000000   \n",
       "25%      0.000000    0.000000    0.000000    0.000000   0.000000    0.000000   \n",
       "50%      0.000000    1.000000    1.000000    0.000000   0.000000    0.000000   \n",
       "75%      9.000000    4.000000    2.000000    2.000000   0.000000    3.000000   \n",
       "max     44.000000   63.000000   37.000000   24.000000   1.000000   72.000000   \n",
       "\n",
       "            x1485       x1486        x1548            Y  \n",
       "count  209.000000  121.000000  2496.000000  2496.000000  \n",
       "mean     0.177033    0.487603    81.805795    87.964741  \n",
       "std      0.741781    2.098077    10.900766     3.117598  \n",
       "min      0.000000    0.000000    39.427581    50.324680  \n",
       "25%      0.000000    0.000000    75.376710    87.241560  \n",
       "50%      0.000000    0.000000    79.642922    88.481820  \n",
       "75%      0.000000    0.000000    85.431745    89.559495  \n",
       "max      6.000000   16.000000   169.237049    92.428570  \n",
       "\n",
       "[8 rows x 863 columns]"
      ]
     },
     "execution_count": 123,
     "metadata": {},
     "output_type": "execute_result"
    }
   ],
   "source": [
    "x.describe()"
   ]
  },
  {
   "cell_type": "code",
   "execution_count": 90,
   "metadata": {},
   "outputs": [],
   "source": [
    "x_1 = x.drop(drop_name_95, axis=1)\n",
    "x_3 = x.drop(drop_name_90, axis=1)"
   ]
  },
  {
   "cell_type": "code",
   "execution_count": 91,
   "metadata": {},
   "outputs": [
    {
     "data": {
      "text/plain": [
       "(2496, 622)"
      ]
     },
     "execution_count": 91,
     "metadata": {},
     "output_type": "execute_result"
    }
   ],
   "source": [
    "x_3.shape"
   ]
  },
  {
   "cell_type": "code",
   "execution_count": 44,
   "metadata": {},
   "outputs": [],
   "source": [
    "from sklearn.preprocessing import Imputer\n",
    "\n",
    "imputer = Imputer(strategy=\"median\")"
   ]
  },
  {
   "cell_type": "code",
   "execution_count": 45,
   "metadata": {},
   "outputs": [],
   "source": [
    "imputer.fit(x_1.drop(\"Y\", axis=1))\n",
    "x_2 = imputer.transform(x_1.drop(\"Y\", axis=1))\n",
    "#x_2 = pd.DataFrame(x_2, columns=x_1.columns)\n",
    "y_2 = x_1[\"Y\"].copy()"
   ]
  },
  {
   "cell_type": "code",
   "execution_count": 92,
   "metadata": {},
   "outputs": [],
   "source": [
    "imputer.fit(x_3.drop(\"Y\", axis=1))\n",
    "x_4 = imputer.transform(x_3.drop(\"Y\", axis=1))\n",
    "#x_2 = pd.DataFrame(x_2, columns=x_1.columns)\n",
    "y_4 = x_3[\"Y\"].copy()"
   ]
  },
  {
   "cell_type": "code",
   "execution_count": 96,
   "metadata": {},
   "outputs": [
    {
     "data": {
      "text/plain": [
       "-70.75148000691296"
      ]
     },
     "execution_count": 96,
     "metadata": {},
     "output_type": "execute_result"
    }
   ],
   "source": [
    "from sklearn.linear_model import LinearRegression\n",
    "from sklearn.model_selection import cross_val_score\n",
    "\n",
    "lin_reg = LinearRegression()\n",
    "scores = cross_val_score(lin_reg, x_2, y_2, scoring='neg_mean_squared_error', cv= 5)\n",
    "scores.sum()"
   ]
  },
  {
   "cell_type": "code",
   "execution_count": 93,
   "metadata": {},
   "outputs": [],
   "source": [
    "from sklearn.preprocessing import StandardScaler\n",
    "scaler = StandardScaler()\n",
    "x_2_scaled = scaler.fit_transform(x_2)\n",
    "x_4_scaled = scaler.fit_transform(x_4)"
   ]
  },
  {
   "cell_type": "code",
   "execution_count": 97,
   "metadata": {},
   "outputs": [
    {
     "data": {
      "text/plain": [
       "-70.75148000691325"
      ]
     },
     "execution_count": 97,
     "metadata": {},
     "output_type": "execute_result"
    }
   ],
   "source": [
    "scores = cross_val_score(lin_reg, x_2_scaled, y_2, scoring='neg_mean_squared_error', cv= 5)\n",
    "scores.sum()"
   ]
  },
  {
   "cell_type": "code",
   "execution_count": 70,
   "metadata": {},
   "outputs": [
    {
     "data": {
      "text/plain": [
       "-123.65709336279622"
      ]
     },
     "execution_count": 70,
     "metadata": {},
     "output_type": "execute_result"
    }
   ],
   "source": [
    "from sklearn.tree import DecisionTreeRegressor\n",
    "\n",
    "tree_reg = DecisionTreeRegressor()\n",
    "scores = cross_val_score(tree_reg, x_2_scaled, y_2, scoring='neg_mean_squared_error', cv= 5)\n",
    "scores.sum()"
   ]
  },
  {
   "cell_type": "code",
   "execution_count": 163,
   "metadata": {},
   "outputs": [
    {
     "data": {
      "text/plain": [
       "-58.13417846137882"
      ]
     },
     "execution_count": 163,
     "metadata": {},
     "output_type": "execute_result"
    }
   ],
   "source": [
    "from sklearn.ensemble import RandomForestRegressor\n",
    "\n",
    "forest_reg = RandomForestRegressor()\n",
    "scores = cross_val_score(forest_reg, x_2_scaled_reduced, y_2, scoring='neg_mean_squared_error', cv= 5)\n",
    "scores.sum()"
   ]
  },
  {
   "cell_type": "code",
   "execution_count": 94,
   "metadata": {},
   "outputs": [
    {
     "data": {
      "text/plain": [
       "-55.07109564890919"
      ]
     },
     "execution_count": 94,
     "metadata": {},
     "output_type": "execute_result"
    }
   ],
   "source": [
    "scores = cross_val_score(forest_reg, x_4_scaled, y_2, scoring='neg_mean_squared_error', cv= 5)\n",
    "scores.sum()"
   ]
  },
  {
   "cell_type": "code",
   "execution_count": 71,
   "metadata": {
    "scrolled": true
   },
   "outputs": [
    {
     "data": {
      "text/plain": [
       "-70.19296872305729"
      ]
     },
     "execution_count": 71,
     "metadata": {},
     "output_type": "execute_result"
    }
   ],
   "source": [
    "from sklearn.linear_model import Ridge\n",
    "ridge_reg = Ridge(alpha=1, solver=\"cholesky\")\n",
    "scores = cross_val_score(ridge_reg, x_2_scaled, y_2, scoring='neg_mean_squared_error', cv= 5)\n",
    "scores.sum()"
   ]
  },
  {
   "cell_type": "code",
   "execution_count": 72,
   "metadata": {},
   "outputs": [
    {
     "data": {
      "text/plain": [
       "-48.38968777671319"
      ]
     },
     "execution_count": 72,
     "metadata": {},
     "output_type": "execute_result"
    }
   ],
   "source": [
    "from sklearn.linear_model import ElasticNet\n",
    "elastic_net = ElasticNet(alpha=0.1, l1_ratio=0.5)\n",
    "scores = cross_val_score(elastic_net, x_2_scaled, y_2, scoring='neg_mean_squared_error', cv= 5)\n",
    "scores.sum()"
   ]
  },
  {
   "cell_type": "code",
   "execution_count": 105,
   "metadata": {},
   "outputs": [
    {
     "data": {
      "text/plain": [
       "-46.84082530972146"
      ]
     },
     "execution_count": 105,
     "metadata": {},
     "output_type": "execute_result"
    }
   ],
   "source": [
    "from sklearn.svm import LinearSVR\n",
    "svm_reg = LinearSVR(epsilon=1.5)\n",
    "scores = cross_val_score(svm_reg, x_2_scaled_reduced, y_2, scoring='neg_mean_squared_error', cv= 5)\n",
    "scores.sum()"
   ]
  },
  {
   "cell_type": "code",
   "execution_count": 106,
   "metadata": {},
   "outputs": [
    {
     "data": {
      "text/plain": [
       "-47.3953699036857"
      ]
     },
     "execution_count": 106,
     "metadata": {},
     "output_type": "execute_result"
    }
   ],
   "source": [
    "from sklearn.svm import LinearSVR\n",
    "svm_reg = LinearSVR(epsilon=0.5)\n",
    "scores = cross_val_score(svm_reg, x_2_scaled_reduced, y_2, scoring='neg_mean_squared_error', cv= 5)\n",
    "scores.sum()"
   ]
  },
  {
   "cell_type": "code",
   "execution_count": 153,
   "metadata": {},
   "outputs": [
    {
     "data": {
      "text/plain": [
       "-47.569594967090524"
      ]
     },
     "execution_count": 153,
     "metadata": {},
     "output_type": "execute_result"
    }
   ],
   "source": [
    "from sklearn.svm import LinearSVR\n",
    "svm_reg = LinearSVR(epsilon=0.1)\n",
    "scores = cross_val_score(svm_reg, x_2_scaled_reduced, y_2, scoring='neg_mean_squared_error', cv= 5)\n",
    "scores.sum()"
   ]
  },
  {
   "cell_type": "code",
   "execution_count": 122,
   "metadata": {},
   "outputs": [
    {
     "data": {
      "text/plain": [
       "-48.492463966200916"
      ]
     },
     "execution_count": 122,
     "metadata": {},
     "output_type": "execute_result"
    }
   ],
   "source": [
    "from sklearn.svm import SVR\n",
    "svm_poly_reg = SVR(kernel=\"rbf\", degree=2, C=0.1, epsilon=1.5)\n",
    "scores = cross_val_score(svm_poly_reg, x_2_scaled, y_2, scoring='neg_mean_squared_error', cv= 5)\n",
    "scores.sum()"
   ]
  },
  {
   "cell_type": "code",
   "execution_count": 164,
   "metadata": {},
   "outputs": [
    {
     "data": {
      "text/plain": [
       "-50.66209338848965"
      ]
     },
     "execution_count": 164,
     "metadata": {},
     "output_type": "execute_result"
    }
   ],
   "source": [
    "from sklearn.ensemble import GradientBoostingRegressor\n",
    "gbrt = GradientBoostingRegressor(max_depth=2, n_estimators=3, learning_rate=1.0)\n",
    "scores = cross_val_score(gbrt, x_2_scaled_reduced, y_2, scoring='neg_mean_squared_error', cv= 5)\n",
    "scores.sum()"
   ]
  },
  {
   "cell_type": "code",
   "execution_count": 58,
   "metadata": {},
   "outputs": [],
   "source": [
    "from sklearn.decomposition import PCA\n",
    "\n",
    "pca = PCA(n_components=0.5)\n",
    "x_2_scaled_reduced = pca.fit_transform(x_2_scaled)"
   ]
  },
  {
   "cell_type": "code",
   "execution_count": 60,
   "metadata": {},
   "outputs": [
    {
     "data": {
      "text/plain": [
       "-51.21043881018193"
      ]
     },
     "execution_count": 60,
     "metadata": {},
     "output_type": "execute_result"
    }
   ],
   "source": [
    "lin_reg = LinearRegression()\n",
    "scores = cross_val_score(lin_reg, x_2_scaled_reduced, y_2, scoring='neg_mean_squared_error', cv= 5)\n",
    "scores.sum()"
   ]
  },
  {
   "cell_type": "code",
   "execution_count": 61,
   "metadata": {},
   "outputs": [
    {
     "data": {
      "text/plain": [
       "-62.165025193800616"
      ]
     },
     "execution_count": 61,
     "metadata": {},
     "output_type": "execute_result"
    }
   ],
   "source": [
    "from sklearn.ensemble import RandomForestRegressor\n",
    "\n",
    "pca = PCA(n_components=0.7)\n",
    "x_2_scaled_reduced = pca.fit_transform(x_2_scaled)\n",
    "\n",
    "forest_reg = RandomForestRegressor()\n",
    "scores = cross_val_score(forest_reg, x_2_scaled_reduced, y_2, scoring='neg_mean_squared_error', cv= 5)\n",
    "scores.sum()"
   ]
  },
  {
   "cell_type": "code",
   "execution_count": 62,
   "metadata": {},
   "outputs": [
    {
     "data": {
      "text/plain": [
       "-48.52795456328282"
      ]
     },
     "execution_count": 62,
     "metadata": {},
     "output_type": "execute_result"
    }
   ],
   "source": [
    "pca = PCA(n_components=0.3)\n",
    "x_2_scaled_reduced = pca.fit_transform(x_2_scaled)\n",
    "\n",
    "elastic_net = ElasticNet(alpha=0.1, l1_ratio=0.5)\n",
    "scores = cross_val_score(elastic_net, x_2_scaled_reduced, y_2, scoring='neg_mean_squared_error', cv= 5)\n",
    "scores.sum()"
   ]
  },
  {
   "cell_type": "code",
   "execution_count": 63,
   "metadata": {},
   "outputs": [
    {
     "data": {
      "text/plain": [
       "(2496, 208)"
      ]
     },
     "execution_count": 63,
     "metadata": {},
     "output_type": "execute_result"
    }
   ],
   "source": [
    "x_2_scaled.shape"
   ]
  },
  {
   "cell_type": "code",
   "execution_count": 64,
   "metadata": {},
   "outputs": [
    {
     "data": {
      "text/plain": [
       "-51.112425380063634"
      ]
     },
     "execution_count": 64,
     "metadata": {},
     "output_type": "execute_result"
    }
   ],
   "source": [
    "svm_poly_reg = SVR(kernel=\"poly\", degree=0.5, C=100, epsilon=0.2)\n",
    "scores = cross_val_score(svm_poly_reg, x_2_scaled, y_2, scoring='neg_mean_squared_error', cv= 5)\n",
    "scores.sum()"
   ]
  },
  {
   "cell_type": "code",
   "execution_count": 65,
   "metadata": {},
   "outputs": [],
   "source": [
    "from sklearn.decomposition import KernelPCA\n",
    "\n",
    "rbf_pca = KernelPCA(n_components=5, kernel=\"rbf\", gamma=0.04)\n",
    "x_2_scaled_kernel_reduced = rbf_pca.fit_transform(x_2_scaled)"
   ]
  },
  {
   "cell_type": "code",
   "execution_count": 66,
   "metadata": {},
   "outputs": [
    {
     "data": {
      "text/plain": [
       "-48.50452497303797"
      ]
     },
     "execution_count": 66,
     "metadata": {},
     "output_type": "execute_result"
    }
   ],
   "source": [
    "lin_reg = LinearRegression()\n",
    "scores = cross_val_score(lin_reg, x_2_scaled_kernel_reduced, y_2, scoring='neg_mean_squared_error', cv= 5)\n",
    "scores.sum()"
   ]
  },
  {
   "cell_type": "code",
   "execution_count": 67,
   "metadata": {},
   "outputs": [
    {
     "data": {
      "text/plain": [
       "-49.65903444314613"
      ]
     },
     "execution_count": 67,
     "metadata": {},
     "output_type": "execute_result"
    }
   ],
   "source": [
    "elastic_net = ElasticNet(alpha=0.1, l1_ratio=0.5)\n",
    "scores = cross_val_score(elastic_net, x_2_scaled_kernel_reduced, y_2, scoring='neg_mean_squared_error', cv= 5)\n",
    "scores.sum()"
   ]
  },
  {
   "cell_type": "code",
   "execution_count": 78,
   "metadata": {},
   "outputs": [
    {
     "data": {
      "text/plain": [
       "{'PCA__n_components': 0.14}"
      ]
     },
     "execution_count": 78,
     "metadata": {},
     "output_type": "execute_result"
    }
   ],
   "source": [
    "from sklearn.model_selection import GridSearchCV\n",
    "from sklearn.pipeline import Pipeline\n",
    "\n",
    "lin_reg_grid = Pipeline([\n",
    "    (\"PCA\", PCA()),\n",
    "    (\"lin_reg\", LinearRegression())\n",
    "])\n",
    "\n",
    "param_grid = [{\n",
    "    \"PCA__n_components\": np.linspace(0.01, 0.99, 99)\n",
    "}]\n",
    "\n",
    "grid_search = GridSearchCV(lin_reg_grid, param_grid, cv=5)\n",
    "grid_search.fit(x_2_scaled, y_2)\n",
    "grid_search.best_params_"
   ]
  },
  {
   "cell_type": "code",
   "execution_count": 80,
   "metadata": {},
   "outputs": [
    {
     "data": {
      "text/plain": [
       "{'PCA__n_components': 0.14,\n",
       " 'elasticnet__alpha': 0.1,\n",
       " 'elasticnet__l1_ratio': 0.1}"
      ]
     },
     "execution_count": 80,
     "metadata": {},
     "output_type": "execute_result"
    }
   ],
   "source": [
    "elasticnet_grid = Pipeline([\n",
    "    (\"PCA\", PCA()),\n",
    "    (\"elasticnet\", ElasticNet(alpha=0.1, l1_ratio=0.5))\n",
    "])\n",
    "\n",
    "param_grid = [{\n",
    "    \"PCA__n_components\": np.linspace(0.01, 0.4, 40),\n",
    "    \"elasticnet__alpha\": np.linspace(0.1, 1, 10),\n",
    "    \"elasticnet__l1_ratio\": np.linspace(0.1, 1, 10)\n",
    "}]\n",
    "\n",
    "grid_search = GridSearchCV(elasticnet_grid, param_grid, cv=5)\n",
    "grid_search.fit(x_2_scaled, y_2)\n",
    "grid_search.best_params_"
   ]
  },
  {
   "cell_type": "code",
   "execution_count": 150,
   "metadata": {
    "scrolled": true
   },
   "outputs": [
    {
     "data": {
      "text/plain": [
       "array([ -7.8035889 , -11.57882287,  -4.09598072, -13.20602044,\n",
       "       -11.10242071])"
      ]
     },
     "execution_count": 150,
     "metadata": {},
     "output_type": "execute_result"
    }
   ],
   "source": [
    "pca = PCA(n_components=0.14)\n",
    "x_2_scaled_reduced = pca.fit_transform(x_2_scaled)\n",
    "scores = cross_val_score(lin_reg, x_2_scaled_reduced, y_2, scoring='neg_mean_squared_error', cv= 5)\n",
    "scores"
   ]
  },
  {
   "cell_type": "code",
   "execution_count": 151,
   "metadata": {},
   "outputs": [
    {
     "data": {
      "text/plain": [
       "array([ -7.80080677, -11.55413232,  -4.08051856, -13.20342963,\n",
       "       -11.11592574])"
      ]
     },
     "execution_count": 151,
     "metadata": {},
     "output_type": "execute_result"
    }
   ],
   "source": [
    "elastic_net = ElasticNet(alpha=0.1, l1_ratio=0.1)\n",
    "scores = cross_val_score(elastic_net, x_2_scaled_reduced, y_2, scoring='neg_mean_squared_error', cv= 5)\n",
    "scores"
   ]
  },
  {
   "cell_type": "code",
   "execution_count": 139,
   "metadata": {},
   "outputs": [
    {
     "data": {
      "text/plain": [
       "87.71842"
      ]
     },
     "execution_count": 139,
     "metadata": {},
     "output_type": "execute_result"
    }
   ],
   "source": [
    "y_2[0]"
   ]
  },
  {
   "cell_type": "code",
   "execution_count": 144,
   "metadata": {},
   "outputs": [],
   "source": [
    "y_test = []\n",
    "for i in range(0, y_2.shape[0]):\n",
    "    y_test.append(y_2.mean())"
   ]
  },
  {
   "cell_type": "code",
   "execution_count": 152,
   "metadata": {},
   "outputs": [
    {
     "data": {
      "text/plain": [
       "48.57760868861141"
      ]
     },
     "execution_count": 152,
     "metadata": {},
     "output_type": "execute_result"
    }
   ],
   "source": [
    "mean_squared_error(y_2, y_test) * 5"
   ]
  },
  {
   "cell_type": "code",
   "execution_count": 154,
   "metadata": {},
   "outputs": [
    {
     "data": {
      "text/plain": [
       "{'PCA__n_components': 0.29000000000000004,\n",
       " 'lin_svm_reg__epsilon': 1.5999999999999999}"
      ]
     },
     "execution_count": 154,
     "metadata": {},
     "output_type": "execute_result"
    }
   ],
   "source": [
    "lin_svm_reg_grid = Pipeline([\n",
    "    (\"PCA\", PCA()),\n",
    "    (\"lin_svm_reg\", LinearSVR())\n",
    "])\n",
    "\n",
    "param_grid = [{\n",
    "    \"PCA__n_components\": np.linspace(0.01, 0.4, 40),\n",
    "    \"lin_svm_reg__epsilon\": np.linspace(0.1, 2, 20),\n",
    "}]\n",
    "\n",
    "grid_search = GridSearchCV(lin_svm_reg_grid, param_grid, cv=5)\n",
    "grid_search.fit(x_2_scaled, y_2)\n",
    "grid_search.best_params_"
   ]
  },
  {
   "cell_type": "code",
   "execution_count": 155,
   "metadata": {},
   "outputs": [
    {
     "data": {
      "text/plain": [
       "-47.607408621256624"
      ]
     },
     "execution_count": 155,
     "metadata": {},
     "output_type": "execute_result"
    }
   ],
   "source": [
    "pca = PCA(n_components=0.29)\n",
    "x_5_scaled_reduced = pca.fit_transform(x_2_scaled)\n",
    "\n",
    "svm_reg = LinearSVR(epsilon=1.6)\n",
    "scores = cross_val_score(svm_reg, x_5_scaled_reduced, y_2, scoring='neg_mean_squared_error', cv= 5)\n",
    "scores.sum()"
   ]
  },
  {
   "cell_type": "code",
   "execution_count": 168,
   "metadata": {},
   "outputs": [
    {
     "ename": "AttributeError",
     "evalue": "'numpy.ndarray' object has no attribute 'int'",
     "output_type": "error",
     "traceback": [
      "\u001b[1;31m---------------------------------------------------------------------------\u001b[0m",
      "\u001b[1;31mAttributeError\u001b[0m                            Traceback (most recent call last)",
      "\u001b[1;32m<ipython-input-168-6d3c55ea9f9f>\u001b[0m in \u001b[0;36m<module>\u001b[1;34m()\u001b[0m\n\u001b[0;32m      1\u001b[0m \u001b[0mx_2_test\u001b[0m \u001b[1;33m=\u001b[0m \u001b[0mx_2_scaled\u001b[0m\u001b[1;33m\u001b[0m\u001b[0m\n\u001b[1;32m----> 2\u001b[1;33m \u001b[0mnp\u001b[0m\u001b[1;33m.\u001b[0m\u001b[0mlinspace\u001b[0m\u001b[1;33m(\u001b[0m\u001b[1;36m2\u001b[0m\u001b[1;33m,\u001b[0m\u001b[1;36m10\u001b[0m\u001b[1;33m,\u001b[0m\u001b[1;36m9\u001b[0m\u001b[1;33m)\u001b[0m\u001b[1;33m.\u001b[0m\u001b[0mint\u001b[0m\u001b[1;33m(\u001b[0m\u001b[1;33m)\u001b[0m\u001b[1;33m\u001b[0m\u001b[0m\n\u001b[0m",
      "\u001b[1;31mAttributeError\u001b[0m: 'numpy.ndarray' object has no attribute 'int'"
     ]
    }
   ],
   "source": [
    "x_2_test = x_2_scaled"
   ]
  },
  {
   "cell_type": "code",
   "execution_count": null,
   "metadata": {},
   "outputs": [],
   "source": [
    "#gbrt = GradientBoostingRegressor(max_depth=2, n_estimators=3, learning_rate=1.0)\n",
    "\n",
    "gbrt_grid = Pipeline([\n",
    "    (\"PCA\", PCA()),\n",
    "    (\"gbrt\", GradientBoostingRegressor())\n",
    "])\n",
    "\n",
    "param_grid = [{\n",
    "    \"PCA__n_components\": np.linspace(0.01, 0.4, 40),\n",
    "    \"gbrt__max_depth\": [2, 3, 4, 5, 6, 7, 8, 9, 10],\n",
    "    \"gbrt__n_estimators\": [2, 3, 4, 5, 6, 7, 8, 9, 10]\n",
    "}]\n",
    "\n",
    "grid_search = GridSearchCV(gbrt_grid, param_grid, cv=5)\n",
    "grid_search.fit(x_2_scaled, y_2)\n",
    "grid_search.best_params_"
   ]
  },
  {
   "cell_type": "code",
   "execution_count": null,
   "metadata": {},
   "outputs": [],
   "source": []
  }
 ],
 "metadata": {
  "kernelspec": {
   "display_name": "Python 3",
   "language": "python",
   "name": "python3"
  },
  "language_info": {
   "codemirror_mode": {
    "name": "ipython",
    "version": 3
   },
   "file_extension": ".py",
   "mimetype": "text/x-python",
   "name": "python",
   "nbconvert_exporter": "python",
   "pygments_lexer": "ipython3",
   "version": "3.7.0"
  }
 },
 "nbformat": 4,
 "nbformat_minor": 2
}
